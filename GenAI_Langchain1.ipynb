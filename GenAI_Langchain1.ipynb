{
  "nbformat": 4,
  "nbformat_minor": 0,
  "metadata": {
    "colab": {
      "provenance": [],
      "include_colab_link": true
    },
    "kernelspec": {
      "name": "python3",
      "display_name": "Python 3"
    },
    "language_info": {
      "name": "python"
    },
    "widgets": {
      "application/vnd.jupyter.widget-state+json": {
        "d9f5a406d06348c1b84d179d462d81e9": {
          "model_module": "@jupyter-widgets/controls",
          "model_name": "HBoxModel",
          "model_module_version": "1.5.0",
          "state": {
            "_dom_classes": [],
            "_model_module": "@jupyter-widgets/controls",
            "_model_module_version": "1.5.0",
            "_model_name": "HBoxModel",
            "_view_count": null,
            "_view_module": "@jupyter-widgets/controls",
            "_view_module_version": "1.5.0",
            "_view_name": "HBoxView",
            "box_style": "",
            "children": [
              "IPY_MODEL_4b8611d0cfd2489bb2ff74e21505f007",
              "IPY_MODEL_67d42c7442e34f47ab8fa3fca2912f8a",
              "IPY_MODEL_c9cd246199b144e58ad994093caac02b"
            ],
            "layout": "IPY_MODEL_bb3a6e9b296b4e5086dc4c44fa0e902e"
          }
        },
        "4b8611d0cfd2489bb2ff74e21505f007": {
          "model_module": "@jupyter-widgets/controls",
          "model_name": "HTMLModel",
          "model_module_version": "1.5.0",
          "state": {
            "_dom_classes": [],
            "_model_module": "@jupyter-widgets/controls",
            "_model_module_version": "1.5.0",
            "_model_name": "HTMLModel",
            "_view_count": null,
            "_view_module": "@jupyter-widgets/controls",
            "_view_module_version": "1.5.0",
            "_view_name": "HTMLView",
            "description": "",
            "description_tooltip": null,
            "layout": "IPY_MODEL_b1110282023640c5b6f8b11cb983e5d4",
            "placeholder": "​",
            "style": "IPY_MODEL_256bd63ff4cb41b4adea65d945743367",
            "value": "tokenizer_config.json: 100%"
          }
        },
        "67d42c7442e34f47ab8fa3fca2912f8a": {
          "model_module": "@jupyter-widgets/controls",
          "model_name": "FloatProgressModel",
          "model_module_version": "1.5.0",
          "state": {
            "_dom_classes": [],
            "_model_module": "@jupyter-widgets/controls",
            "_model_module_version": "1.5.0",
            "_model_name": "FloatProgressModel",
            "_view_count": null,
            "_view_module": "@jupyter-widgets/controls",
            "_view_module_version": "1.5.0",
            "_view_name": "ProgressView",
            "bar_style": "success",
            "description": "",
            "description_tooltip": null,
            "layout": "IPY_MODEL_dad4105fc0ed4e4bb773645dedc9d8be",
            "max": 26,
            "min": 0,
            "orientation": "horizontal",
            "style": "IPY_MODEL_416bcea70b02429a99892f7aaaa8e1f5",
            "value": 26
          }
        },
        "c9cd246199b144e58ad994093caac02b": {
          "model_module": "@jupyter-widgets/controls",
          "model_name": "HTMLModel",
          "model_module_version": "1.5.0",
          "state": {
            "_dom_classes": [],
            "_model_module": "@jupyter-widgets/controls",
            "_model_module_version": "1.5.0",
            "_model_name": "HTMLModel",
            "_view_count": null,
            "_view_module": "@jupyter-widgets/controls",
            "_view_module_version": "1.5.0",
            "_view_name": "HTMLView",
            "description": "",
            "description_tooltip": null,
            "layout": "IPY_MODEL_c01efaf9fecd46eaa46842e8dd1245c1",
            "placeholder": "​",
            "style": "IPY_MODEL_dc32d6c99fed4c2e8c2d408ddc9a94f3",
            "value": " 26.0/26.0 [00:00&lt;00:00, 2.01kB/s]"
          }
        },
        "bb3a6e9b296b4e5086dc4c44fa0e902e": {
          "model_module": "@jupyter-widgets/base",
          "model_name": "LayoutModel",
          "model_module_version": "1.2.0",
          "state": {
            "_model_module": "@jupyter-widgets/base",
            "_model_module_version": "1.2.0",
            "_model_name": "LayoutModel",
            "_view_count": null,
            "_view_module": "@jupyter-widgets/base",
            "_view_module_version": "1.2.0",
            "_view_name": "LayoutView",
            "align_content": null,
            "align_items": null,
            "align_self": null,
            "border": null,
            "bottom": null,
            "display": null,
            "flex": null,
            "flex_flow": null,
            "grid_area": null,
            "grid_auto_columns": null,
            "grid_auto_flow": null,
            "grid_auto_rows": null,
            "grid_column": null,
            "grid_gap": null,
            "grid_row": null,
            "grid_template_areas": null,
            "grid_template_columns": null,
            "grid_template_rows": null,
            "height": null,
            "justify_content": null,
            "justify_items": null,
            "left": null,
            "margin": null,
            "max_height": null,
            "max_width": null,
            "min_height": null,
            "min_width": null,
            "object_fit": null,
            "object_position": null,
            "order": null,
            "overflow": null,
            "overflow_x": null,
            "overflow_y": null,
            "padding": null,
            "right": null,
            "top": null,
            "visibility": null,
            "width": null
          }
        },
        "b1110282023640c5b6f8b11cb983e5d4": {
          "model_module": "@jupyter-widgets/base",
          "model_name": "LayoutModel",
          "model_module_version": "1.2.0",
          "state": {
            "_model_module": "@jupyter-widgets/base",
            "_model_module_version": "1.2.0",
            "_model_name": "LayoutModel",
            "_view_count": null,
            "_view_module": "@jupyter-widgets/base",
            "_view_module_version": "1.2.0",
            "_view_name": "LayoutView",
            "align_content": null,
            "align_items": null,
            "align_self": null,
            "border": null,
            "bottom": null,
            "display": null,
            "flex": null,
            "flex_flow": null,
            "grid_area": null,
            "grid_auto_columns": null,
            "grid_auto_flow": null,
            "grid_auto_rows": null,
            "grid_column": null,
            "grid_gap": null,
            "grid_row": null,
            "grid_template_areas": null,
            "grid_template_columns": null,
            "grid_template_rows": null,
            "height": null,
            "justify_content": null,
            "justify_items": null,
            "left": null,
            "margin": null,
            "max_height": null,
            "max_width": null,
            "min_height": null,
            "min_width": null,
            "object_fit": null,
            "object_position": null,
            "order": null,
            "overflow": null,
            "overflow_x": null,
            "overflow_y": null,
            "padding": null,
            "right": null,
            "top": null,
            "visibility": null,
            "width": null
          }
        },
        "256bd63ff4cb41b4adea65d945743367": {
          "model_module": "@jupyter-widgets/controls",
          "model_name": "DescriptionStyleModel",
          "model_module_version": "1.5.0",
          "state": {
            "_model_module": "@jupyter-widgets/controls",
            "_model_module_version": "1.5.0",
            "_model_name": "DescriptionStyleModel",
            "_view_count": null,
            "_view_module": "@jupyter-widgets/base",
            "_view_module_version": "1.2.0",
            "_view_name": "StyleView",
            "description_width": ""
          }
        },
        "dad4105fc0ed4e4bb773645dedc9d8be": {
          "model_module": "@jupyter-widgets/base",
          "model_name": "LayoutModel",
          "model_module_version": "1.2.0",
          "state": {
            "_model_module": "@jupyter-widgets/base",
            "_model_module_version": "1.2.0",
            "_model_name": "LayoutModel",
            "_view_count": null,
            "_view_module": "@jupyter-widgets/base",
            "_view_module_version": "1.2.0",
            "_view_name": "LayoutView",
            "align_content": null,
            "align_items": null,
            "align_self": null,
            "border": null,
            "bottom": null,
            "display": null,
            "flex": null,
            "flex_flow": null,
            "grid_area": null,
            "grid_auto_columns": null,
            "grid_auto_flow": null,
            "grid_auto_rows": null,
            "grid_column": null,
            "grid_gap": null,
            "grid_row": null,
            "grid_template_areas": null,
            "grid_template_columns": null,
            "grid_template_rows": null,
            "height": null,
            "justify_content": null,
            "justify_items": null,
            "left": null,
            "margin": null,
            "max_height": null,
            "max_width": null,
            "min_height": null,
            "min_width": null,
            "object_fit": null,
            "object_position": null,
            "order": null,
            "overflow": null,
            "overflow_x": null,
            "overflow_y": null,
            "padding": null,
            "right": null,
            "top": null,
            "visibility": null,
            "width": null
          }
        },
        "416bcea70b02429a99892f7aaaa8e1f5": {
          "model_module": "@jupyter-widgets/controls",
          "model_name": "ProgressStyleModel",
          "model_module_version": "1.5.0",
          "state": {
            "_model_module": "@jupyter-widgets/controls",
            "_model_module_version": "1.5.0",
            "_model_name": "ProgressStyleModel",
            "_view_count": null,
            "_view_module": "@jupyter-widgets/base",
            "_view_module_version": "1.2.0",
            "_view_name": "StyleView",
            "bar_color": null,
            "description_width": ""
          }
        },
        "c01efaf9fecd46eaa46842e8dd1245c1": {
          "model_module": "@jupyter-widgets/base",
          "model_name": "LayoutModel",
          "model_module_version": "1.2.0",
          "state": {
            "_model_module": "@jupyter-widgets/base",
            "_model_module_version": "1.2.0",
            "_model_name": "LayoutModel",
            "_view_count": null,
            "_view_module": "@jupyter-widgets/base",
            "_view_module_version": "1.2.0",
            "_view_name": "LayoutView",
            "align_content": null,
            "align_items": null,
            "align_self": null,
            "border": null,
            "bottom": null,
            "display": null,
            "flex": null,
            "flex_flow": null,
            "grid_area": null,
            "grid_auto_columns": null,
            "grid_auto_flow": null,
            "grid_auto_rows": null,
            "grid_column": null,
            "grid_gap": null,
            "grid_row": null,
            "grid_template_areas": null,
            "grid_template_columns": null,
            "grid_template_rows": null,
            "height": null,
            "justify_content": null,
            "justify_items": null,
            "left": null,
            "margin": null,
            "max_height": null,
            "max_width": null,
            "min_height": null,
            "min_width": null,
            "object_fit": null,
            "object_position": null,
            "order": null,
            "overflow": null,
            "overflow_x": null,
            "overflow_y": null,
            "padding": null,
            "right": null,
            "top": null,
            "visibility": null,
            "width": null
          }
        },
        "dc32d6c99fed4c2e8c2d408ddc9a94f3": {
          "model_module": "@jupyter-widgets/controls",
          "model_name": "DescriptionStyleModel",
          "model_module_version": "1.5.0",
          "state": {
            "_model_module": "@jupyter-widgets/controls",
            "_model_module_version": "1.5.0",
            "_model_name": "DescriptionStyleModel",
            "_view_count": null,
            "_view_module": "@jupyter-widgets/base",
            "_view_module_version": "1.2.0",
            "_view_name": "StyleView",
            "description_width": ""
          }
        },
        "8d6a2e9817bb4cc786772dbef86441c6": {
          "model_module": "@jupyter-widgets/controls",
          "model_name": "HBoxModel",
          "model_module_version": "1.5.0",
          "state": {
            "_dom_classes": [],
            "_model_module": "@jupyter-widgets/controls",
            "_model_module_version": "1.5.0",
            "_model_name": "HBoxModel",
            "_view_count": null,
            "_view_module": "@jupyter-widgets/controls",
            "_view_module_version": "1.5.0",
            "_view_name": "HBoxView",
            "box_style": "",
            "children": [
              "IPY_MODEL_ee57e2479d0549f8a88ce919c2a0f3cf",
              "IPY_MODEL_9c92c3d671ef460fb8b6fc0a00d3ee1e",
              "IPY_MODEL_69a909d7b4674871ae87777c9c0fbe25"
            ],
            "layout": "IPY_MODEL_a659919236834350bdad38cbcc13066b"
          }
        },
        "ee57e2479d0549f8a88ce919c2a0f3cf": {
          "model_module": "@jupyter-widgets/controls",
          "model_name": "HTMLModel",
          "model_module_version": "1.5.0",
          "state": {
            "_dom_classes": [],
            "_model_module": "@jupyter-widgets/controls",
            "_model_module_version": "1.5.0",
            "_model_name": "HTMLModel",
            "_view_count": null,
            "_view_module": "@jupyter-widgets/controls",
            "_view_module_version": "1.5.0",
            "_view_name": "HTMLView",
            "description": "",
            "description_tooltip": null,
            "layout": "IPY_MODEL_21488b33d2904a57b2311cc9482fdcf1",
            "placeholder": "​",
            "style": "IPY_MODEL_fea89195297e4cd2856c883601a11d0d",
            "value": "vocab.json: 100%"
          }
        },
        "9c92c3d671ef460fb8b6fc0a00d3ee1e": {
          "model_module": "@jupyter-widgets/controls",
          "model_name": "FloatProgressModel",
          "model_module_version": "1.5.0",
          "state": {
            "_dom_classes": [],
            "_model_module": "@jupyter-widgets/controls",
            "_model_module_version": "1.5.0",
            "_model_name": "FloatProgressModel",
            "_view_count": null,
            "_view_module": "@jupyter-widgets/controls",
            "_view_module_version": "1.5.0",
            "_view_name": "ProgressView",
            "bar_style": "success",
            "description": "",
            "description_tooltip": null,
            "layout": "IPY_MODEL_6e5cdad2270f4c0f9a28a2de2a117fd2",
            "max": 1042301,
            "min": 0,
            "orientation": "horizontal",
            "style": "IPY_MODEL_17da8c45d0fd40988436ad53d8363bb1",
            "value": 1042301
          }
        },
        "69a909d7b4674871ae87777c9c0fbe25": {
          "model_module": "@jupyter-widgets/controls",
          "model_name": "HTMLModel",
          "model_module_version": "1.5.0",
          "state": {
            "_dom_classes": [],
            "_model_module": "@jupyter-widgets/controls",
            "_model_module_version": "1.5.0",
            "_model_name": "HTMLModel",
            "_view_count": null,
            "_view_module": "@jupyter-widgets/controls",
            "_view_module_version": "1.5.0",
            "_view_name": "HTMLView",
            "description": "",
            "description_tooltip": null,
            "layout": "IPY_MODEL_438915d48a024e099a6e2dae8fcb4ece",
            "placeholder": "​",
            "style": "IPY_MODEL_f0dcd3571ef84c91824af5d76c4960a3",
            "value": " 1.04M/1.04M [00:00&lt;00:00, 11.9MB/s]"
          }
        },
        "a659919236834350bdad38cbcc13066b": {
          "model_module": "@jupyter-widgets/base",
          "model_name": "LayoutModel",
          "model_module_version": "1.2.0",
          "state": {
            "_model_module": "@jupyter-widgets/base",
            "_model_module_version": "1.2.0",
            "_model_name": "LayoutModel",
            "_view_count": null,
            "_view_module": "@jupyter-widgets/base",
            "_view_module_version": "1.2.0",
            "_view_name": "LayoutView",
            "align_content": null,
            "align_items": null,
            "align_self": null,
            "border": null,
            "bottom": null,
            "display": null,
            "flex": null,
            "flex_flow": null,
            "grid_area": null,
            "grid_auto_columns": null,
            "grid_auto_flow": null,
            "grid_auto_rows": null,
            "grid_column": null,
            "grid_gap": null,
            "grid_row": null,
            "grid_template_areas": null,
            "grid_template_columns": null,
            "grid_template_rows": null,
            "height": null,
            "justify_content": null,
            "justify_items": null,
            "left": null,
            "margin": null,
            "max_height": null,
            "max_width": null,
            "min_height": null,
            "min_width": null,
            "object_fit": null,
            "object_position": null,
            "order": null,
            "overflow": null,
            "overflow_x": null,
            "overflow_y": null,
            "padding": null,
            "right": null,
            "top": null,
            "visibility": null,
            "width": null
          }
        },
        "21488b33d2904a57b2311cc9482fdcf1": {
          "model_module": "@jupyter-widgets/base",
          "model_name": "LayoutModel",
          "model_module_version": "1.2.0",
          "state": {
            "_model_module": "@jupyter-widgets/base",
            "_model_module_version": "1.2.0",
            "_model_name": "LayoutModel",
            "_view_count": null,
            "_view_module": "@jupyter-widgets/base",
            "_view_module_version": "1.2.0",
            "_view_name": "LayoutView",
            "align_content": null,
            "align_items": null,
            "align_self": null,
            "border": null,
            "bottom": null,
            "display": null,
            "flex": null,
            "flex_flow": null,
            "grid_area": null,
            "grid_auto_columns": null,
            "grid_auto_flow": null,
            "grid_auto_rows": null,
            "grid_column": null,
            "grid_gap": null,
            "grid_row": null,
            "grid_template_areas": null,
            "grid_template_columns": null,
            "grid_template_rows": null,
            "height": null,
            "justify_content": null,
            "justify_items": null,
            "left": null,
            "margin": null,
            "max_height": null,
            "max_width": null,
            "min_height": null,
            "min_width": null,
            "object_fit": null,
            "object_position": null,
            "order": null,
            "overflow": null,
            "overflow_x": null,
            "overflow_y": null,
            "padding": null,
            "right": null,
            "top": null,
            "visibility": null,
            "width": null
          }
        },
        "fea89195297e4cd2856c883601a11d0d": {
          "model_module": "@jupyter-widgets/controls",
          "model_name": "DescriptionStyleModel",
          "model_module_version": "1.5.0",
          "state": {
            "_model_module": "@jupyter-widgets/controls",
            "_model_module_version": "1.5.0",
            "_model_name": "DescriptionStyleModel",
            "_view_count": null,
            "_view_module": "@jupyter-widgets/base",
            "_view_module_version": "1.2.0",
            "_view_name": "StyleView",
            "description_width": ""
          }
        },
        "6e5cdad2270f4c0f9a28a2de2a117fd2": {
          "model_module": "@jupyter-widgets/base",
          "model_name": "LayoutModel",
          "model_module_version": "1.2.0",
          "state": {
            "_model_module": "@jupyter-widgets/base",
            "_model_module_version": "1.2.0",
            "_model_name": "LayoutModel",
            "_view_count": null,
            "_view_module": "@jupyter-widgets/base",
            "_view_module_version": "1.2.0",
            "_view_name": "LayoutView",
            "align_content": null,
            "align_items": null,
            "align_self": null,
            "border": null,
            "bottom": null,
            "display": null,
            "flex": null,
            "flex_flow": null,
            "grid_area": null,
            "grid_auto_columns": null,
            "grid_auto_flow": null,
            "grid_auto_rows": null,
            "grid_column": null,
            "grid_gap": null,
            "grid_row": null,
            "grid_template_areas": null,
            "grid_template_columns": null,
            "grid_template_rows": null,
            "height": null,
            "justify_content": null,
            "justify_items": null,
            "left": null,
            "margin": null,
            "max_height": null,
            "max_width": null,
            "min_height": null,
            "min_width": null,
            "object_fit": null,
            "object_position": null,
            "order": null,
            "overflow": null,
            "overflow_x": null,
            "overflow_y": null,
            "padding": null,
            "right": null,
            "top": null,
            "visibility": null,
            "width": null
          }
        },
        "17da8c45d0fd40988436ad53d8363bb1": {
          "model_module": "@jupyter-widgets/controls",
          "model_name": "ProgressStyleModel",
          "model_module_version": "1.5.0",
          "state": {
            "_model_module": "@jupyter-widgets/controls",
            "_model_module_version": "1.5.0",
            "_model_name": "ProgressStyleModel",
            "_view_count": null,
            "_view_module": "@jupyter-widgets/base",
            "_view_module_version": "1.2.0",
            "_view_name": "StyleView",
            "bar_color": null,
            "description_width": ""
          }
        },
        "438915d48a024e099a6e2dae8fcb4ece": {
          "model_module": "@jupyter-widgets/base",
          "model_name": "LayoutModel",
          "model_module_version": "1.2.0",
          "state": {
            "_model_module": "@jupyter-widgets/base",
            "_model_module_version": "1.2.0",
            "_model_name": "LayoutModel",
            "_view_count": null,
            "_view_module": "@jupyter-widgets/base",
            "_view_module_version": "1.2.0",
            "_view_name": "LayoutView",
            "align_content": null,
            "align_items": null,
            "align_self": null,
            "border": null,
            "bottom": null,
            "display": null,
            "flex": null,
            "flex_flow": null,
            "grid_area": null,
            "grid_auto_columns": null,
            "grid_auto_flow": null,
            "grid_auto_rows": null,
            "grid_column": null,
            "grid_gap": null,
            "grid_row": null,
            "grid_template_areas": null,
            "grid_template_columns": null,
            "grid_template_rows": null,
            "height": null,
            "justify_content": null,
            "justify_items": null,
            "left": null,
            "margin": null,
            "max_height": null,
            "max_width": null,
            "min_height": null,
            "min_width": null,
            "object_fit": null,
            "object_position": null,
            "order": null,
            "overflow": null,
            "overflow_x": null,
            "overflow_y": null,
            "padding": null,
            "right": null,
            "top": null,
            "visibility": null,
            "width": null
          }
        },
        "f0dcd3571ef84c91824af5d76c4960a3": {
          "model_module": "@jupyter-widgets/controls",
          "model_name": "DescriptionStyleModel",
          "model_module_version": "1.5.0",
          "state": {
            "_model_module": "@jupyter-widgets/controls",
            "_model_module_version": "1.5.0",
            "_model_name": "DescriptionStyleModel",
            "_view_count": null,
            "_view_module": "@jupyter-widgets/base",
            "_view_module_version": "1.2.0",
            "_view_name": "StyleView",
            "description_width": ""
          }
        },
        "3dc3c0ebed6349d5b4c89831d1feeda6": {
          "model_module": "@jupyter-widgets/controls",
          "model_name": "HBoxModel",
          "model_module_version": "1.5.0",
          "state": {
            "_dom_classes": [],
            "_model_module": "@jupyter-widgets/controls",
            "_model_module_version": "1.5.0",
            "_model_name": "HBoxModel",
            "_view_count": null,
            "_view_module": "@jupyter-widgets/controls",
            "_view_module_version": "1.5.0",
            "_view_name": "HBoxView",
            "box_style": "",
            "children": [
              "IPY_MODEL_9fa12b1ca7cd4105bf766e4310129168",
              "IPY_MODEL_5e26ca2ecc1e4655935e6f55a0d79b80",
              "IPY_MODEL_d0eb9a68a3ff4324af978c8d1395a4e4"
            ],
            "layout": "IPY_MODEL_7404d1af824d4a3aa7650a31066f68a0"
          }
        },
        "9fa12b1ca7cd4105bf766e4310129168": {
          "model_module": "@jupyter-widgets/controls",
          "model_name": "HTMLModel",
          "model_module_version": "1.5.0",
          "state": {
            "_dom_classes": [],
            "_model_module": "@jupyter-widgets/controls",
            "_model_module_version": "1.5.0",
            "_model_name": "HTMLModel",
            "_view_count": null,
            "_view_module": "@jupyter-widgets/controls",
            "_view_module_version": "1.5.0",
            "_view_name": "HTMLView",
            "description": "",
            "description_tooltip": null,
            "layout": "IPY_MODEL_cf9b76ca7fc24edc846227753adf1094",
            "placeholder": "​",
            "style": "IPY_MODEL_fbad9eb540c44bb0a35dbbd3608ad0b5",
            "value": "merges.txt: 100%"
          }
        },
        "5e26ca2ecc1e4655935e6f55a0d79b80": {
          "model_module": "@jupyter-widgets/controls",
          "model_name": "FloatProgressModel",
          "model_module_version": "1.5.0",
          "state": {
            "_dom_classes": [],
            "_model_module": "@jupyter-widgets/controls",
            "_model_module_version": "1.5.0",
            "_model_name": "FloatProgressModel",
            "_view_count": null,
            "_view_module": "@jupyter-widgets/controls",
            "_view_module_version": "1.5.0",
            "_view_name": "ProgressView",
            "bar_style": "success",
            "description": "",
            "description_tooltip": null,
            "layout": "IPY_MODEL_6d81a9018d5e4fc897a558cd6787f0b9",
            "max": 456318,
            "min": 0,
            "orientation": "horizontal",
            "style": "IPY_MODEL_92f0d5956b9e48678bd550db01215595",
            "value": 456318
          }
        },
        "d0eb9a68a3ff4324af978c8d1395a4e4": {
          "model_module": "@jupyter-widgets/controls",
          "model_name": "HTMLModel",
          "model_module_version": "1.5.0",
          "state": {
            "_dom_classes": [],
            "_model_module": "@jupyter-widgets/controls",
            "_model_module_version": "1.5.0",
            "_model_name": "HTMLModel",
            "_view_count": null,
            "_view_module": "@jupyter-widgets/controls",
            "_view_module_version": "1.5.0",
            "_view_name": "HTMLView",
            "description": "",
            "description_tooltip": null,
            "layout": "IPY_MODEL_a1cad18f483a4c3ea2010772f698d33d",
            "placeholder": "​",
            "style": "IPY_MODEL_78c5c65b5b3c41bfa662f143874e572b",
            "value": " 456k/456k [00:00&lt;00:00, 8.19MB/s]"
          }
        },
        "7404d1af824d4a3aa7650a31066f68a0": {
          "model_module": "@jupyter-widgets/base",
          "model_name": "LayoutModel",
          "model_module_version": "1.2.0",
          "state": {
            "_model_module": "@jupyter-widgets/base",
            "_model_module_version": "1.2.0",
            "_model_name": "LayoutModel",
            "_view_count": null,
            "_view_module": "@jupyter-widgets/base",
            "_view_module_version": "1.2.0",
            "_view_name": "LayoutView",
            "align_content": null,
            "align_items": null,
            "align_self": null,
            "border": null,
            "bottom": null,
            "display": null,
            "flex": null,
            "flex_flow": null,
            "grid_area": null,
            "grid_auto_columns": null,
            "grid_auto_flow": null,
            "grid_auto_rows": null,
            "grid_column": null,
            "grid_gap": null,
            "grid_row": null,
            "grid_template_areas": null,
            "grid_template_columns": null,
            "grid_template_rows": null,
            "height": null,
            "justify_content": null,
            "justify_items": null,
            "left": null,
            "margin": null,
            "max_height": null,
            "max_width": null,
            "min_height": null,
            "min_width": null,
            "object_fit": null,
            "object_position": null,
            "order": null,
            "overflow": null,
            "overflow_x": null,
            "overflow_y": null,
            "padding": null,
            "right": null,
            "top": null,
            "visibility": null,
            "width": null
          }
        },
        "cf9b76ca7fc24edc846227753adf1094": {
          "model_module": "@jupyter-widgets/base",
          "model_name": "LayoutModel",
          "model_module_version": "1.2.0",
          "state": {
            "_model_module": "@jupyter-widgets/base",
            "_model_module_version": "1.2.0",
            "_model_name": "LayoutModel",
            "_view_count": null,
            "_view_module": "@jupyter-widgets/base",
            "_view_module_version": "1.2.0",
            "_view_name": "LayoutView",
            "align_content": null,
            "align_items": null,
            "align_self": null,
            "border": null,
            "bottom": null,
            "display": null,
            "flex": null,
            "flex_flow": null,
            "grid_area": null,
            "grid_auto_columns": null,
            "grid_auto_flow": null,
            "grid_auto_rows": null,
            "grid_column": null,
            "grid_gap": null,
            "grid_row": null,
            "grid_template_areas": null,
            "grid_template_columns": null,
            "grid_template_rows": null,
            "height": null,
            "justify_content": null,
            "justify_items": null,
            "left": null,
            "margin": null,
            "max_height": null,
            "max_width": null,
            "min_height": null,
            "min_width": null,
            "object_fit": null,
            "object_position": null,
            "order": null,
            "overflow": null,
            "overflow_x": null,
            "overflow_y": null,
            "padding": null,
            "right": null,
            "top": null,
            "visibility": null,
            "width": null
          }
        },
        "fbad9eb540c44bb0a35dbbd3608ad0b5": {
          "model_module": "@jupyter-widgets/controls",
          "model_name": "DescriptionStyleModel",
          "model_module_version": "1.5.0",
          "state": {
            "_model_module": "@jupyter-widgets/controls",
            "_model_module_version": "1.5.0",
            "_model_name": "DescriptionStyleModel",
            "_view_count": null,
            "_view_module": "@jupyter-widgets/base",
            "_view_module_version": "1.2.0",
            "_view_name": "StyleView",
            "description_width": ""
          }
        },
        "6d81a9018d5e4fc897a558cd6787f0b9": {
          "model_module": "@jupyter-widgets/base",
          "model_name": "LayoutModel",
          "model_module_version": "1.2.0",
          "state": {
            "_model_module": "@jupyter-widgets/base",
            "_model_module_version": "1.2.0",
            "_model_name": "LayoutModel",
            "_view_count": null,
            "_view_module": "@jupyter-widgets/base",
            "_view_module_version": "1.2.0",
            "_view_name": "LayoutView",
            "align_content": null,
            "align_items": null,
            "align_self": null,
            "border": null,
            "bottom": null,
            "display": null,
            "flex": null,
            "flex_flow": null,
            "grid_area": null,
            "grid_auto_columns": null,
            "grid_auto_flow": null,
            "grid_auto_rows": null,
            "grid_column": null,
            "grid_gap": null,
            "grid_row": null,
            "grid_template_areas": null,
            "grid_template_columns": null,
            "grid_template_rows": null,
            "height": null,
            "justify_content": null,
            "justify_items": null,
            "left": null,
            "margin": null,
            "max_height": null,
            "max_width": null,
            "min_height": null,
            "min_width": null,
            "object_fit": null,
            "object_position": null,
            "order": null,
            "overflow": null,
            "overflow_x": null,
            "overflow_y": null,
            "padding": null,
            "right": null,
            "top": null,
            "visibility": null,
            "width": null
          }
        },
        "92f0d5956b9e48678bd550db01215595": {
          "model_module": "@jupyter-widgets/controls",
          "model_name": "ProgressStyleModel",
          "model_module_version": "1.5.0",
          "state": {
            "_model_module": "@jupyter-widgets/controls",
            "_model_module_version": "1.5.0",
            "_model_name": "ProgressStyleModel",
            "_view_count": null,
            "_view_module": "@jupyter-widgets/base",
            "_view_module_version": "1.2.0",
            "_view_name": "StyleView",
            "bar_color": null,
            "description_width": ""
          }
        },
        "a1cad18f483a4c3ea2010772f698d33d": {
          "model_module": "@jupyter-widgets/base",
          "model_name": "LayoutModel",
          "model_module_version": "1.2.0",
          "state": {
            "_model_module": "@jupyter-widgets/base",
            "_model_module_version": "1.2.0",
            "_model_name": "LayoutModel",
            "_view_count": null,
            "_view_module": "@jupyter-widgets/base",
            "_view_module_version": "1.2.0",
            "_view_name": "LayoutView",
            "align_content": null,
            "align_items": null,
            "align_self": null,
            "border": null,
            "bottom": null,
            "display": null,
            "flex": null,
            "flex_flow": null,
            "grid_area": null,
            "grid_auto_columns": null,
            "grid_auto_flow": null,
            "grid_auto_rows": null,
            "grid_column": null,
            "grid_gap": null,
            "grid_row": null,
            "grid_template_areas": null,
            "grid_template_columns": null,
            "grid_template_rows": null,
            "height": null,
            "justify_content": null,
            "justify_items": null,
            "left": null,
            "margin": null,
            "max_height": null,
            "max_width": null,
            "min_height": null,
            "min_width": null,
            "object_fit": null,
            "object_position": null,
            "order": null,
            "overflow": null,
            "overflow_x": null,
            "overflow_y": null,
            "padding": null,
            "right": null,
            "top": null,
            "visibility": null,
            "width": null
          }
        },
        "78c5c65b5b3c41bfa662f143874e572b": {
          "model_module": "@jupyter-widgets/controls",
          "model_name": "DescriptionStyleModel",
          "model_module_version": "1.5.0",
          "state": {
            "_model_module": "@jupyter-widgets/controls",
            "_model_module_version": "1.5.0",
            "_model_name": "DescriptionStyleModel",
            "_view_count": null,
            "_view_module": "@jupyter-widgets/base",
            "_view_module_version": "1.2.0",
            "_view_name": "StyleView",
            "description_width": ""
          }
        },
        "f50c3a73483f4ea38e2d28b988882052": {
          "model_module": "@jupyter-widgets/controls",
          "model_name": "HBoxModel",
          "model_module_version": "1.5.0",
          "state": {
            "_dom_classes": [],
            "_model_module": "@jupyter-widgets/controls",
            "_model_module_version": "1.5.0",
            "_model_name": "HBoxModel",
            "_view_count": null,
            "_view_module": "@jupyter-widgets/controls",
            "_view_module_version": "1.5.0",
            "_view_name": "HBoxView",
            "box_style": "",
            "children": [
              "IPY_MODEL_557cb122e8d040f9a65966d8c10a03aa",
              "IPY_MODEL_4c8d8651c98746a188bd42668ea9f0d0",
              "IPY_MODEL_1505fec202064b5f966560075b4788a0"
            ],
            "layout": "IPY_MODEL_87f73f03e1fb4957b2d9a4414a346bb8"
          }
        },
        "557cb122e8d040f9a65966d8c10a03aa": {
          "model_module": "@jupyter-widgets/controls",
          "model_name": "HTMLModel",
          "model_module_version": "1.5.0",
          "state": {
            "_dom_classes": [],
            "_model_module": "@jupyter-widgets/controls",
            "_model_module_version": "1.5.0",
            "_model_name": "HTMLModel",
            "_view_count": null,
            "_view_module": "@jupyter-widgets/controls",
            "_view_module_version": "1.5.0",
            "_view_name": "HTMLView",
            "description": "",
            "description_tooltip": null,
            "layout": "IPY_MODEL_3448744c92c44622b6e34da245f2db71",
            "placeholder": "​",
            "style": "IPY_MODEL_a4beae87f36f4a5cbaa1a141ceaa91d7",
            "value": "tokenizer.json: 100%"
          }
        },
        "4c8d8651c98746a188bd42668ea9f0d0": {
          "model_module": "@jupyter-widgets/controls",
          "model_name": "FloatProgressModel",
          "model_module_version": "1.5.0",
          "state": {
            "_dom_classes": [],
            "_model_module": "@jupyter-widgets/controls",
            "_model_module_version": "1.5.0",
            "_model_name": "FloatProgressModel",
            "_view_count": null,
            "_view_module": "@jupyter-widgets/controls",
            "_view_module_version": "1.5.0",
            "_view_name": "ProgressView",
            "bar_style": "success",
            "description": "",
            "description_tooltip": null,
            "layout": "IPY_MODEL_ace6f165a9d348ab8e49d7145bfc69f4",
            "max": 1355256,
            "min": 0,
            "orientation": "horizontal",
            "style": "IPY_MODEL_a1d4733bcf29417eabe9a7b0bb36140b",
            "value": 1355256
          }
        },
        "1505fec202064b5f966560075b4788a0": {
          "model_module": "@jupyter-widgets/controls",
          "model_name": "HTMLModel",
          "model_module_version": "1.5.0",
          "state": {
            "_dom_classes": [],
            "_model_module": "@jupyter-widgets/controls",
            "_model_module_version": "1.5.0",
            "_model_name": "HTMLModel",
            "_view_count": null,
            "_view_module": "@jupyter-widgets/controls",
            "_view_module_version": "1.5.0",
            "_view_name": "HTMLView",
            "description": "",
            "description_tooltip": null,
            "layout": "IPY_MODEL_1352f9d848324ac5a3c4dcc8930a18e7",
            "placeholder": "​",
            "style": "IPY_MODEL_96d866c287ff45eb8b4d5c8f427a23ea",
            "value": " 1.36M/1.36M [00:00&lt;00:00, 38.3MB/s]"
          }
        },
        "87f73f03e1fb4957b2d9a4414a346bb8": {
          "model_module": "@jupyter-widgets/base",
          "model_name": "LayoutModel",
          "model_module_version": "1.2.0",
          "state": {
            "_model_module": "@jupyter-widgets/base",
            "_model_module_version": "1.2.0",
            "_model_name": "LayoutModel",
            "_view_count": null,
            "_view_module": "@jupyter-widgets/base",
            "_view_module_version": "1.2.0",
            "_view_name": "LayoutView",
            "align_content": null,
            "align_items": null,
            "align_self": null,
            "border": null,
            "bottom": null,
            "display": null,
            "flex": null,
            "flex_flow": null,
            "grid_area": null,
            "grid_auto_columns": null,
            "grid_auto_flow": null,
            "grid_auto_rows": null,
            "grid_column": null,
            "grid_gap": null,
            "grid_row": null,
            "grid_template_areas": null,
            "grid_template_columns": null,
            "grid_template_rows": null,
            "height": null,
            "justify_content": null,
            "justify_items": null,
            "left": null,
            "margin": null,
            "max_height": null,
            "max_width": null,
            "min_height": null,
            "min_width": null,
            "object_fit": null,
            "object_position": null,
            "order": null,
            "overflow": null,
            "overflow_x": null,
            "overflow_y": null,
            "padding": null,
            "right": null,
            "top": null,
            "visibility": null,
            "width": null
          }
        },
        "3448744c92c44622b6e34da245f2db71": {
          "model_module": "@jupyter-widgets/base",
          "model_name": "LayoutModel",
          "model_module_version": "1.2.0",
          "state": {
            "_model_module": "@jupyter-widgets/base",
            "_model_module_version": "1.2.0",
            "_model_name": "LayoutModel",
            "_view_count": null,
            "_view_module": "@jupyter-widgets/base",
            "_view_module_version": "1.2.0",
            "_view_name": "LayoutView",
            "align_content": null,
            "align_items": null,
            "align_self": null,
            "border": null,
            "bottom": null,
            "display": null,
            "flex": null,
            "flex_flow": null,
            "grid_area": null,
            "grid_auto_columns": null,
            "grid_auto_flow": null,
            "grid_auto_rows": null,
            "grid_column": null,
            "grid_gap": null,
            "grid_row": null,
            "grid_template_areas": null,
            "grid_template_columns": null,
            "grid_template_rows": null,
            "height": null,
            "justify_content": null,
            "justify_items": null,
            "left": null,
            "margin": null,
            "max_height": null,
            "max_width": null,
            "min_height": null,
            "min_width": null,
            "object_fit": null,
            "object_position": null,
            "order": null,
            "overflow": null,
            "overflow_x": null,
            "overflow_y": null,
            "padding": null,
            "right": null,
            "top": null,
            "visibility": null,
            "width": null
          }
        },
        "a4beae87f36f4a5cbaa1a141ceaa91d7": {
          "model_module": "@jupyter-widgets/controls",
          "model_name": "DescriptionStyleModel",
          "model_module_version": "1.5.0",
          "state": {
            "_model_module": "@jupyter-widgets/controls",
            "_model_module_version": "1.5.0",
            "_model_name": "DescriptionStyleModel",
            "_view_count": null,
            "_view_module": "@jupyter-widgets/base",
            "_view_module_version": "1.2.0",
            "_view_name": "StyleView",
            "description_width": ""
          }
        },
        "ace6f165a9d348ab8e49d7145bfc69f4": {
          "model_module": "@jupyter-widgets/base",
          "model_name": "LayoutModel",
          "model_module_version": "1.2.0",
          "state": {
            "_model_module": "@jupyter-widgets/base",
            "_model_module_version": "1.2.0",
            "_model_name": "LayoutModel",
            "_view_count": null,
            "_view_module": "@jupyter-widgets/base",
            "_view_module_version": "1.2.0",
            "_view_name": "LayoutView",
            "align_content": null,
            "align_items": null,
            "align_self": null,
            "border": null,
            "bottom": null,
            "display": null,
            "flex": null,
            "flex_flow": null,
            "grid_area": null,
            "grid_auto_columns": null,
            "grid_auto_flow": null,
            "grid_auto_rows": null,
            "grid_column": null,
            "grid_gap": null,
            "grid_row": null,
            "grid_template_areas": null,
            "grid_template_columns": null,
            "grid_template_rows": null,
            "height": null,
            "justify_content": null,
            "justify_items": null,
            "left": null,
            "margin": null,
            "max_height": null,
            "max_width": null,
            "min_height": null,
            "min_width": null,
            "object_fit": null,
            "object_position": null,
            "order": null,
            "overflow": null,
            "overflow_x": null,
            "overflow_y": null,
            "padding": null,
            "right": null,
            "top": null,
            "visibility": null,
            "width": null
          }
        },
        "a1d4733bcf29417eabe9a7b0bb36140b": {
          "model_module": "@jupyter-widgets/controls",
          "model_name": "ProgressStyleModel",
          "model_module_version": "1.5.0",
          "state": {
            "_model_module": "@jupyter-widgets/controls",
            "_model_module_version": "1.5.0",
            "_model_name": "ProgressStyleModel",
            "_view_count": null,
            "_view_module": "@jupyter-widgets/base",
            "_view_module_version": "1.2.0",
            "_view_name": "StyleView",
            "bar_color": null,
            "description_width": ""
          }
        },
        "1352f9d848324ac5a3c4dcc8930a18e7": {
          "model_module": "@jupyter-widgets/base",
          "model_name": "LayoutModel",
          "model_module_version": "1.2.0",
          "state": {
            "_model_module": "@jupyter-widgets/base",
            "_model_module_version": "1.2.0",
            "_model_name": "LayoutModel",
            "_view_count": null,
            "_view_module": "@jupyter-widgets/base",
            "_view_module_version": "1.2.0",
            "_view_name": "LayoutView",
            "align_content": null,
            "align_items": null,
            "align_self": null,
            "border": null,
            "bottom": null,
            "display": null,
            "flex": null,
            "flex_flow": null,
            "grid_area": null,
            "grid_auto_columns": null,
            "grid_auto_flow": null,
            "grid_auto_rows": null,
            "grid_column": null,
            "grid_gap": null,
            "grid_row": null,
            "grid_template_areas": null,
            "grid_template_columns": null,
            "grid_template_rows": null,
            "height": null,
            "justify_content": null,
            "justify_items": null,
            "left": null,
            "margin": null,
            "max_height": null,
            "max_width": null,
            "min_height": null,
            "min_width": null,
            "object_fit": null,
            "object_position": null,
            "order": null,
            "overflow": null,
            "overflow_x": null,
            "overflow_y": null,
            "padding": null,
            "right": null,
            "top": null,
            "visibility": null,
            "width": null
          }
        },
        "96d866c287ff45eb8b4d5c8f427a23ea": {
          "model_module": "@jupyter-widgets/controls",
          "model_name": "DescriptionStyleModel",
          "model_module_version": "1.5.0",
          "state": {
            "_model_module": "@jupyter-widgets/controls",
            "_model_module_version": "1.5.0",
            "_model_name": "DescriptionStyleModel",
            "_view_count": null,
            "_view_module": "@jupyter-widgets/base",
            "_view_module_version": "1.2.0",
            "_view_name": "StyleView",
            "description_width": ""
          }
        },
        "13738131e1b844f4a44033ad68129917": {
          "model_module": "@jupyter-widgets/controls",
          "model_name": "HBoxModel",
          "model_module_version": "1.5.0",
          "state": {
            "_dom_classes": [],
            "_model_module": "@jupyter-widgets/controls",
            "_model_module_version": "1.5.0",
            "_model_name": "HBoxModel",
            "_view_count": null,
            "_view_module": "@jupyter-widgets/controls",
            "_view_module_version": "1.5.0",
            "_view_name": "HBoxView",
            "box_style": "",
            "children": [
              "IPY_MODEL_916cece0932840b789930fcc33444df8",
              "IPY_MODEL_d60233682dd940c685f0d7ebeb19fedb",
              "IPY_MODEL_25ee4aaeca004cb08aa932fbe3393081"
            ],
            "layout": "IPY_MODEL_2c2da9ee11564f06beffca04a9b5bae7"
          }
        },
        "916cece0932840b789930fcc33444df8": {
          "model_module": "@jupyter-widgets/controls",
          "model_name": "HTMLModel",
          "model_module_version": "1.5.0",
          "state": {
            "_dom_classes": [],
            "_model_module": "@jupyter-widgets/controls",
            "_model_module_version": "1.5.0",
            "_model_name": "HTMLModel",
            "_view_count": null,
            "_view_module": "@jupyter-widgets/controls",
            "_view_module_version": "1.5.0",
            "_view_name": "HTMLView",
            "description": "",
            "description_tooltip": null,
            "layout": "IPY_MODEL_44c2cb7c02854681b3c1eef8faf33481",
            "placeholder": "​",
            "style": "IPY_MODEL_e24055cb355b4b9594c4346faec058e0",
            "value": "config.json: 100%"
          }
        },
        "d60233682dd940c685f0d7ebeb19fedb": {
          "model_module": "@jupyter-widgets/controls",
          "model_name": "FloatProgressModel",
          "model_module_version": "1.5.0",
          "state": {
            "_dom_classes": [],
            "_model_module": "@jupyter-widgets/controls",
            "_model_module_version": "1.5.0",
            "_model_name": "FloatProgressModel",
            "_view_count": null,
            "_view_module": "@jupyter-widgets/controls",
            "_view_module_version": "1.5.0",
            "_view_name": "ProgressView",
            "bar_style": "success",
            "description": "",
            "description_tooltip": null,
            "layout": "IPY_MODEL_e3c4be2439a444acbe2b5bc7d2ba4f11",
            "max": 665,
            "min": 0,
            "orientation": "horizontal",
            "style": "IPY_MODEL_0ba449d52c60494291a6b879d8a14673",
            "value": 665
          }
        },
        "25ee4aaeca004cb08aa932fbe3393081": {
          "model_module": "@jupyter-widgets/controls",
          "model_name": "HTMLModel",
          "model_module_version": "1.5.0",
          "state": {
            "_dom_classes": [],
            "_model_module": "@jupyter-widgets/controls",
            "_model_module_version": "1.5.0",
            "_model_name": "HTMLModel",
            "_view_count": null,
            "_view_module": "@jupyter-widgets/controls",
            "_view_module_version": "1.5.0",
            "_view_name": "HTMLView",
            "description": "",
            "description_tooltip": null,
            "layout": "IPY_MODEL_6b4f34dfe9794583904ba4ba32132da8",
            "placeholder": "​",
            "style": "IPY_MODEL_35fd017c321f4ca4a64fe99a4564a816",
            "value": " 665/665 [00:00&lt;00:00, 32.8kB/s]"
          }
        },
        "2c2da9ee11564f06beffca04a9b5bae7": {
          "model_module": "@jupyter-widgets/base",
          "model_name": "LayoutModel",
          "model_module_version": "1.2.0",
          "state": {
            "_model_module": "@jupyter-widgets/base",
            "_model_module_version": "1.2.0",
            "_model_name": "LayoutModel",
            "_view_count": null,
            "_view_module": "@jupyter-widgets/base",
            "_view_module_version": "1.2.0",
            "_view_name": "LayoutView",
            "align_content": null,
            "align_items": null,
            "align_self": null,
            "border": null,
            "bottom": null,
            "display": null,
            "flex": null,
            "flex_flow": null,
            "grid_area": null,
            "grid_auto_columns": null,
            "grid_auto_flow": null,
            "grid_auto_rows": null,
            "grid_column": null,
            "grid_gap": null,
            "grid_row": null,
            "grid_template_areas": null,
            "grid_template_columns": null,
            "grid_template_rows": null,
            "height": null,
            "justify_content": null,
            "justify_items": null,
            "left": null,
            "margin": null,
            "max_height": null,
            "max_width": null,
            "min_height": null,
            "min_width": null,
            "object_fit": null,
            "object_position": null,
            "order": null,
            "overflow": null,
            "overflow_x": null,
            "overflow_y": null,
            "padding": null,
            "right": null,
            "top": null,
            "visibility": null,
            "width": null
          }
        },
        "44c2cb7c02854681b3c1eef8faf33481": {
          "model_module": "@jupyter-widgets/base",
          "model_name": "LayoutModel",
          "model_module_version": "1.2.0",
          "state": {
            "_model_module": "@jupyter-widgets/base",
            "_model_module_version": "1.2.0",
            "_model_name": "LayoutModel",
            "_view_count": null,
            "_view_module": "@jupyter-widgets/base",
            "_view_module_version": "1.2.0",
            "_view_name": "LayoutView",
            "align_content": null,
            "align_items": null,
            "align_self": null,
            "border": null,
            "bottom": null,
            "display": null,
            "flex": null,
            "flex_flow": null,
            "grid_area": null,
            "grid_auto_columns": null,
            "grid_auto_flow": null,
            "grid_auto_rows": null,
            "grid_column": null,
            "grid_gap": null,
            "grid_row": null,
            "grid_template_areas": null,
            "grid_template_columns": null,
            "grid_template_rows": null,
            "height": null,
            "justify_content": null,
            "justify_items": null,
            "left": null,
            "margin": null,
            "max_height": null,
            "max_width": null,
            "min_height": null,
            "min_width": null,
            "object_fit": null,
            "object_position": null,
            "order": null,
            "overflow": null,
            "overflow_x": null,
            "overflow_y": null,
            "padding": null,
            "right": null,
            "top": null,
            "visibility": null,
            "width": null
          }
        },
        "e24055cb355b4b9594c4346faec058e0": {
          "model_module": "@jupyter-widgets/controls",
          "model_name": "DescriptionStyleModel",
          "model_module_version": "1.5.0",
          "state": {
            "_model_module": "@jupyter-widgets/controls",
            "_model_module_version": "1.5.0",
            "_model_name": "DescriptionStyleModel",
            "_view_count": null,
            "_view_module": "@jupyter-widgets/base",
            "_view_module_version": "1.2.0",
            "_view_name": "StyleView",
            "description_width": ""
          }
        },
        "e3c4be2439a444acbe2b5bc7d2ba4f11": {
          "model_module": "@jupyter-widgets/base",
          "model_name": "LayoutModel",
          "model_module_version": "1.2.0",
          "state": {
            "_model_module": "@jupyter-widgets/base",
            "_model_module_version": "1.2.0",
            "_model_name": "LayoutModel",
            "_view_count": null,
            "_view_module": "@jupyter-widgets/base",
            "_view_module_version": "1.2.0",
            "_view_name": "LayoutView",
            "align_content": null,
            "align_items": null,
            "align_self": null,
            "border": null,
            "bottom": null,
            "display": null,
            "flex": null,
            "flex_flow": null,
            "grid_area": null,
            "grid_auto_columns": null,
            "grid_auto_flow": null,
            "grid_auto_rows": null,
            "grid_column": null,
            "grid_gap": null,
            "grid_row": null,
            "grid_template_areas": null,
            "grid_template_columns": null,
            "grid_template_rows": null,
            "height": null,
            "justify_content": null,
            "justify_items": null,
            "left": null,
            "margin": null,
            "max_height": null,
            "max_width": null,
            "min_height": null,
            "min_width": null,
            "object_fit": null,
            "object_position": null,
            "order": null,
            "overflow": null,
            "overflow_x": null,
            "overflow_y": null,
            "padding": null,
            "right": null,
            "top": null,
            "visibility": null,
            "width": null
          }
        },
        "0ba449d52c60494291a6b879d8a14673": {
          "model_module": "@jupyter-widgets/controls",
          "model_name": "ProgressStyleModel",
          "model_module_version": "1.5.0",
          "state": {
            "_model_module": "@jupyter-widgets/controls",
            "_model_module_version": "1.5.0",
            "_model_name": "ProgressStyleModel",
            "_view_count": null,
            "_view_module": "@jupyter-widgets/base",
            "_view_module_version": "1.2.0",
            "_view_name": "StyleView",
            "bar_color": null,
            "description_width": ""
          }
        },
        "6b4f34dfe9794583904ba4ba32132da8": {
          "model_module": "@jupyter-widgets/base",
          "model_name": "LayoutModel",
          "model_module_version": "1.2.0",
          "state": {
            "_model_module": "@jupyter-widgets/base",
            "_model_module_version": "1.2.0",
            "_model_name": "LayoutModel",
            "_view_count": null,
            "_view_module": "@jupyter-widgets/base",
            "_view_module_version": "1.2.0",
            "_view_name": "LayoutView",
            "align_content": null,
            "align_items": null,
            "align_self": null,
            "border": null,
            "bottom": null,
            "display": null,
            "flex": null,
            "flex_flow": null,
            "grid_area": null,
            "grid_auto_columns": null,
            "grid_auto_flow": null,
            "grid_auto_rows": null,
            "grid_column": null,
            "grid_gap": null,
            "grid_row": null,
            "grid_template_areas": null,
            "grid_template_columns": null,
            "grid_template_rows": null,
            "height": null,
            "justify_content": null,
            "justify_items": null,
            "left": null,
            "margin": null,
            "max_height": null,
            "max_width": null,
            "min_height": null,
            "min_width": null,
            "object_fit": null,
            "object_position": null,
            "order": null,
            "overflow": null,
            "overflow_x": null,
            "overflow_y": null,
            "padding": null,
            "right": null,
            "top": null,
            "visibility": null,
            "width": null
          }
        },
        "35fd017c321f4ca4a64fe99a4564a816": {
          "model_module": "@jupyter-widgets/controls",
          "model_name": "DescriptionStyleModel",
          "model_module_version": "1.5.0",
          "state": {
            "_model_module": "@jupyter-widgets/controls",
            "_model_module_version": "1.5.0",
            "_model_name": "DescriptionStyleModel",
            "_view_count": null,
            "_view_module": "@jupyter-widgets/base",
            "_view_module_version": "1.2.0",
            "_view_name": "StyleView",
            "description_width": ""
          }
        }
      }
    }
  },
  "cells": [
    {
      "cell_type": "markdown",
      "metadata": {
        "id": "view-in-github",
        "colab_type": "text"
      },
      "source": [
        "<a href=\"https://colab.research.google.com/github/Asritha0606/GenerativeAI/blob/main/GenAI_Langchain1.ipynb\" target=\"_parent\"><img src=\"https://colab.research.google.com/assets/colab-badge.svg\" alt=\"Open In Colab\"/></a>"
      ]
    },
    {
      "cell_type": "markdown",
      "source": [
        "# Langchain\n",
        "\n",
        "## Section #1 : Introduction to LC and LC Expression Language (LCEL)\n",
        "\n",
        "## Section #2 : Chains and Memory\n"
      ],
      "metadata": {
        "id": "k60Ll_P-bv2x"
      }
    },
    {
      "cell_type": "markdown",
      "source": [
        "![Screenshot 2025-05-19 173853.png](data:image/png;base64,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)"
      ],
      "metadata": {
        "id": "W7S_8QPqcum5"
      }
    },
    {
      "cell_type": "markdown",
      "source": [
        "Let's Begin with Section #1"
      ],
      "metadata": {
        "id": "4A4_A4JRb9HG"
      }
    },
    {
      "cell_type": "markdown",
      "source": [
        "\n",
        "\n",
        "# Section #1:\n",
        "\n",
        "**Intro to LangChain**:\n",
        "\n",
        "LangChain is a popular framework that allow users to quickly build apps and pipelines around Large Language Models. It can be used to for chatbots, Generative Question-Anwering (GQA), summarization, and much more.\n",
        "\n",
        "The core idea of the library is that we can \"chain\" together different components to create more advanced use-cases around LLMs. Chains may consist of multiple components from several modules:\n",
        "\n",
        "**Prompt templates**: Prompt templates are, well, templates for different types of prompts. Like \"chatbot\" style templates, question-answering, etc\n",
        "\n",
        "**LLMs**: Large language models like Llama, Mistral, etc from Groq/Together\n",
        "\n",
        "**Contents**-\n",
        "\n",
        "1. Instantiating LLM from Hugging Face and Groq\n",
        "2. Output Parser\n"
      ],
      "metadata": {
        "id": "Fhf4vLMhaC-p"
      }
    },
    {
      "cell_type": "code",
      "execution_count": null,
      "metadata": {
        "id": "_Kt0yzwkZyuN"
      },
      "outputs": [],
      "source": [
        "# !pip install -qU huggingface_hub transformers"
      ]
    },
    {
      "cell_type": "code",
      "source": [
        "!pip install -q groq langchain-groq langchain langchain-community litellm transformers langgraph"
      ],
      "metadata": {
        "colab": {
          "base_uri": "https://localhost:8080/"
        },
        "id": "gFtcjk5vahT4",
        "outputId": "6441efef-0461-4acd-adc5-0c0fdb1d68d3"
      },
      "execution_count": null,
      "outputs": [
        {
          "output_type": "stream",
          "name": "stdout",
          "text": [
            "\u001b[2K     \u001b[90m━━━━━━━━━━━━━━━━━━━━━━━━━━━━━━━━━━━━━━━━\u001b[0m \u001b[32m43.7/43.7 kB\u001b[0m \u001b[31m1.8 MB/s\u001b[0m eta \u001b[36m0:00:00\u001b[0m\n",
            "\u001b[2K   \u001b[90m━━━━━━━━━━━━━━━━━━━━━━━━━━━━━━━━━━━━━━━━\u001b[0m \u001b[32m129.6/129.6 kB\u001b[0m \u001b[31m3.3 MB/s\u001b[0m eta \u001b[36m0:00:00\u001b[0m\n",
            "\u001b[2K   \u001b[90m━━━━━━━━━━━━━━━━━━━━━━━━━━━━━━━━━━━━━━━━\u001b[0m \u001b[32m2.5/2.5 MB\u001b[0m \u001b[31m15.4 MB/s\u001b[0m eta \u001b[36m0:00:00\u001b[0m\n",
            "\u001b[2K   \u001b[90m━━━━━━━━━━━━━━━━━━━━━━━━━━━━━━━━━━━━━━━━\u001b[0m \u001b[32m8.0/8.0 MB\u001b[0m \u001b[31m26.2 MB/s\u001b[0m eta \u001b[36m0:00:00\u001b[0m\n",
            "\u001b[2K   \u001b[90m━━━━━━━━━━━━━━━━━━━━━━━━━━━━━━━━━━━━━━━━\u001b[0m \u001b[32m152.4/152.4 kB\u001b[0m \u001b[31m8.4 MB/s\u001b[0m eta \u001b[36m0:00:00\u001b[0m\n",
            "\u001b[2K   \u001b[90m━━━━━━━━━━━━━━━━━━━━━━━━━━━━━━━━━━━━━━━━\u001b[0m \u001b[32m44.2/44.2 kB\u001b[0m \u001b[31m1.9 MB/s\u001b[0m eta \u001b[36m0:00:00\u001b[0m\n",
            "\u001b[2K   \u001b[90m━━━━━━━━━━━━━━━━━━━━━━━━━━━━━━━━━━━━━━━━\u001b[0m \u001b[32m50.0/50.0 kB\u001b[0m \u001b[31m2.9 MB/s\u001b[0m eta \u001b[36m0:00:00\u001b[0m\n",
            "\u001b[2K   \u001b[90m━━━━━━━━━━━━━━━━━━━━━━━━━━━━━━━━━━━━━━━━\u001b[0m \u001b[32m44.4/44.4 kB\u001b[0m \u001b[31m2.4 MB/s\u001b[0m eta \u001b[36m0:00:00\u001b[0m\n",
            "\u001b[2K   \u001b[90m━━━━━━━━━━━━━━━━━━━━━━━━━━━━━━━━━━━━━━━━\u001b[0m \u001b[32m50.9/50.9 kB\u001b[0m \u001b[31m2.5 MB/s\u001b[0m eta \u001b[36m0:00:00\u001b[0m\n",
            "\u001b[2K   \u001b[90m━━━━━━━━━━━━━━━━━━━━━━━━━━━━━━━━━━━━━━━━\u001b[0m \u001b[32m216.5/216.5 kB\u001b[0m \u001b[31m10.9 MB/s\u001b[0m eta \u001b[36m0:00:00\u001b[0m\n",
            "\u001b[?25h"
          ]
        }
      ]
    },
    {
      "cell_type": "markdown",
      "source": [
        "Instantiating Mistral-7B-Instruct-v0.2 model from Hugging Face Hub\n",
        "\n",
        "- you need to set your HF-API and Groq API keys"
      ],
      "metadata": {
        "id": "AUi8b6qsarHD"
      }
    },
    {
      "cell_type": "code",
      "source": [
        "import os\n",
        "from google.colab import userdata\n",
        "groq_api_key = userdata.get('groq_api')\n",
        "os.environ[\"GROQ_API_KEY\"] = groq_api_key"
      ],
      "metadata": {
        "id": "54Fim45yalqf"
      },
      "execution_count": null,
      "outputs": []
    },
    {
      "cell_type": "markdown",
      "source": [
        "## LangChain Expression Language (LCEL)\n",
        "\n",
        "Langchain- Python library to interact with LLMs\n",
        "\n",
        "https://python.langchain.com/v0.1/docs/expression_language/\n",
        "\n",
        "https://python.langchain.com/docs/concepts/"
      ],
      "metadata": {
        "id": "Emky9O5LbNin"
      }
    },
    {
      "cell_type": "markdown",
      "source": [
        "## Building Blocks of LCEL:\n",
        "\n",
        "The different components of LCEL are placed in a sequence which is separated by a pipe symbol (|).\n",
        "\n",
        "The chain or LCEL is executed from left to right.\n",
        "\n",
        "Prompt | Model (LLM) | Out Parser\n",
        "\n",
        "Pipe operator"
      ],
      "metadata": {
        "id": "C0jysUbkbaft"
      }
    },
    {
      "cell_type": "markdown",
      "source": [
        "Chatgroq = Langchain + Groq - integration of Groq into Langchain\n",
        "\n",
        "- https://python.langchain.com/docs/integrations/chat/groq/"
      ],
      "metadata": {
        "id": "gfS5rPG_0wma"
      }
    },
    {
      "cell_type": "code",
      "source": [
        "from langchain_groq import ChatGroq\n",
        "\n",
        "llm = ChatGroq(\n",
        "    model=\"llama-3.1-8b-instant\",\n",
        "    temperature=0, # range of temperature variable is from 0(least artistic) to 1(most artistic/enhanced)\n",
        "    max_tokens=None,\n",
        "    timeout=None,\n",
        "    max_retries=2,\n",
        ")"
      ],
      "metadata": {
        "id": "WlipVOYpaw9O"
      },
      "execution_count": null,
      "outputs": []
    },
    {
      "cell_type": "code",
      "source": [
        "from langchain_core.prompts import ChatPromptTemplate\n",
        "from langchain.schema.output_parser import StrOutputParser\n",
        "from pydantic import BaseModel, Field\n",
        "from typing import Optional\n",
        "from langchain_core.prompts import PromptTemplate"
      ],
      "metadata": {
        "id": "c2Cj3ph9bdKo"
      },
      "execution_count": null,
      "outputs": []
    },
    {
      "cell_type": "code",
      "source": [
        "output_parser = StrOutputParser()\n",
        "\n",
        "prompt = ChatPromptTemplate.from_template(\n",
        "    \"Tell me a short joke about {topic}\"\n",
        ")\n",
        "\n",
        "chain = prompt | llm | output_parser\n",
        "chain.invoke({\"topic\": \"ice-creams\"})\n"
      ],
      "metadata": {
        "colab": {
          "base_uri": "https://localhost:8080/",
          "height": 36
        },
        "id": "88v3XQkfbfzM",
        "outputId": "a0b5a8bf-e813-4097-fb7e-f16bb955029f"
      },
      "execution_count": null,
      "outputs": [
        {
          "output_type": "execute_result",
          "data": {
            "text/plain": [
              "'Why did the ice cream go to the doctor? \\n\\nBecause it had a meltdown.'"
            ],
            "application/vnd.google.colaboratory.intrinsic+json": {
              "type": "string"
            }
          },
          "metadata": {},
          "execution_count": 13
        }
      ]
    },
    {
      "cell_type": "code",
      "source": [
        "prompt_value = prompt.invoke({\"topic\": \"ice cream\"})"
      ],
      "metadata": {
        "id": "3M1FsM3y_Glr"
      },
      "execution_count": null,
      "outputs": []
    },
    {
      "cell_type": "code",
      "source": [
        "prompt_value.to_string()"
      ],
      "metadata": {
        "colab": {
          "base_uri": "https://localhost:8080/",
          "height": 36
        },
        "id": "6955Km7u_Ie_",
        "outputId": "10b7f3e7-768d-476e-8099-6cc6f607679e"
      },
      "execution_count": null,
      "outputs": [
        {
          "output_type": "execute_result",
          "data": {
            "text/plain": [
              "'Human: Tell me a short joke about ice cream'"
            ],
            "application/vnd.google.colaboratory.intrinsic+json": {
              "type": "string"
            }
          },
          "metadata": {},
          "execution_count": 12
        }
      ]
    },
    {
      "cell_type": "code",
      "source": [
        "chain.batch([{\"topic\": \"bears\"}, {\"topic\": \"frogs\"},{\"topic\":\"water bottle\"}])"
      ],
      "metadata": {
        "colab": {
          "base_uri": "https://localhost:8080/"
        },
        "id": "1_R83aoibiDW",
        "outputId": "70060bc5-95c3-4b2a-daac-9ce3cbd01c72"
      },
      "execution_count": null,
      "outputs": [
        {
          "output_type": "execute_result",
          "data": {
            "text/plain": [
              "['Why did the bear go to the doctor? \\n\\nBecause it had a grizzly cough.',\n",
              " 'Why did the frog go to the doctor? \\n\\nBecause it had a \"ribbiting\" cough.',\n",
              " 'Why did the water bottle go to therapy? \\n\\nBecause it was feeling drained.']"
            ]
          },
          "metadata": {},
          "execution_count": 19
        }
      ]
    },
    {
      "cell_type": "code",
      "source": [
        "#asynchronous- running paralley\n",
        "response = await chain.ainvoke({\"topic\": \"bears\"})\n",
        "response"
      ],
      "metadata": {
        "colab": {
          "base_uri": "https://localhost:8080/",
          "height": 35
        },
        "id": "S98634A9bkM1",
        "outputId": "664fbc15-771d-465d-80d3-2f09607cc52f"
      },
      "execution_count": null,
      "outputs": [
        {
          "output_type": "execute_result",
          "data": {
            "text/plain": [
              "'Why did the bear go to the doctor? \\n\\nBecause it had a grizzly cough.'"
            ],
            "application/vnd.google.colaboratory.intrinsic+json": {
              "type": "string"
            }
          },
          "metadata": {},
          "execution_count": 12
        }
      ]
    },
    {
      "cell_type": "markdown",
      "source": [
        "# Section #2:\n",
        "\n",
        "## Chains and Memory in LangChain\n",
        "\n",
        "**LLMChains**\n",
        "\n",
        "1. SimpleSequentialChain\n",
        "2. SequentialChain\n",
        "\n",
        "Chains- https://python.langchain.com/api_reference/langchain/chains/langchain.chains.sequential.SequentialChain.html\n",
        "\n",
        "**Memory**\n",
        "\n",
        "1. ConversationBufferMemory\n",
        "2. ConversationBufferWindowMemory\n",
        "3. ConversationTokenBufferMemory\n",
        "4. ConversationSummaryMemory\n",
        "\n",
        "https://python.langchain.com/api_reference/langchain/memory.html\n",
        "\n",
        "**Langchain cookbook**\n",
        "\n",
        "1. https://github.com/langchain-ai/langchain/blob/master/cookbook/llm_summarization_checker.ipynb"
      ],
      "metadata": {
        "id": "Ly609_OLcCAF"
      }
    },
    {
      "cell_type": "markdown",
      "source": [
        "## SimpleSequentialChain"
      ],
      "metadata": {
        "id": "Wq_l-ZeacN32"
      }
    },
    {
      "cell_type": "code",
      "source": [
        "from langchain.prompts import ChatPromptTemplate\n",
        "from langchain.chains import LLMChain\n",
        "from langchain.chains import SimpleSequentialChain"
      ],
      "metadata": {
        "id": "NvnbAn4McCO-"
      },
      "execution_count": null,
      "outputs": []
    },
    {
      "cell_type": "code",
      "source": [
        "# prompt template 1\n",
        "first_prompt = ChatPromptTemplate.from_template(\n",
        "    \"What is the best name to describe \\\n",
        "    a company that makes {product}?\"\n",
        ")\n",
        "\n",
        "# Chain 1\n",
        "chain_one = LLMChain(llm=llm, prompt=first_prompt)\n",
        "# chain_one = llm|first_prompt"
      ],
      "metadata": {
        "id": "d3XjTzYncNaB",
        "colab": {
          "base_uri": "https://localhost:8080/"
        },
        "outputId": "139bc64c-97df-451c-8633-4c3a47188717"
      },
      "execution_count": null,
      "outputs": [
        {
          "output_type": "stream",
          "name": "stderr",
          "text": [
            "<ipython-input-21-3874553b69a1>:8: LangChainDeprecationWarning: The class `LLMChain` was deprecated in LangChain 0.1.17 and will be removed in 1.0. Use :meth:`~RunnableSequence, e.g., `prompt | llm`` instead.\n",
            "  chain_one = LLMChain(llm=llm, prompt=first_prompt)\n"
          ]
        }
      ]
    },
    {
      "cell_type": "code",
      "source": [
        "# prompt template 2\n",
        "second_prompt = ChatPromptTemplate.from_template(\n",
        "    \"Write a 20 words description for the following \\\n",
        "    company:{company_name}\"\n",
        ")\n",
        "# chain 2\n",
        "chain_two = LLMChain(llm=llm, prompt=second_prompt)\n",
        "#chain_two = llm|second_prompt"
      ],
      "metadata": {
        "id": "CZhRpjcncR-5"
      },
      "execution_count": null,
      "outputs": []
    },
    {
      "cell_type": "code",
      "source": [
        "overall_simple_chain = SimpleSequentialChain(chains=[chain_one, chain_two],\n",
        "                                             verbose=True\n",
        "                                            )"
      ],
      "metadata": {
        "id": "XnBSkm_-cT8T"
      },
      "execution_count": null,
      "outputs": []
    },
    {
      "cell_type": "code",
      "source": [
        "product = \"Wooden 6 seater dinning Set\"\n",
        "overall_simple_chain.invoke(product)\n"
      ],
      "metadata": {
        "colab": {
          "base_uri": "https://localhost:8080/"
        },
        "id": "_ZS1x1AKcWLK",
        "outputId": "f1904ddc-cd69-4424-ad5e-13f0b68dc595"
      },
      "execution_count": null,
      "outputs": [
        {
          "output_type": "stream",
          "name": "stdout",
          "text": [
            "\n",
            "\n",
            "\u001b[1m> Entering new SimpleSequentialChain chain...\u001b[0m\n",
            "\u001b[36;1m\u001b[1;3mHere are some suggestions for a company name that makes a wooden 6-seater dining set:\n",
            "\n",
            "1. **Woodhaven Tables**: This name suggests a cozy, welcoming atmosphere, which is perfect for a dining set.\n",
            "2. **Six Oaks Furniture**: This name incorporates the number of seats in the dining set and evokes a sense of natural, rustic charm.\n",
            "3. **Harvest Home Furniture**: This name conveys a sense of warmth and hospitality, perfect for a dining set that brings people together.\n",
            "4. **Woodcraft Dining Co.**: This name highlights the craftsmanship that goes into creating the wooden dining set.\n",
            "5. **Sequoia Table Co.**: This name references a majestic, long-lived tree, suggesting a sturdy and durable dining set.\n",
            "6. **The Wooden Table Co.**: Simple and straightforward, this name emphasizes the focus on wooden dining sets.\n",
            "7. **Pineview Furniture**: This name suggests a connection to nature and a sense of tranquility.\n",
            "8. **The Gathering Table**: This name emphasizes the social aspect of a dining set, where people come together to share meals and conversations.\n",
            "9. **Woodland Dining Co.**: This name evokes a sense of rustic charm and a connection to the natural world.\n",
            "10. **Solid Oak Furniture**: This name highlights the quality and durability of the wooden dining set.\n",
            "\n",
            "Remember to choose a name that reflects your brand values, is easy to remember, and resonates with your target audience.\u001b[0m\n",
            "\u001b[33;1m\u001b[1;3mHere are 20-word descriptions for each company:\n",
            "\n",
            "1. **Woodhaven Tables**: Cozy, welcoming dining sets crafted with love, perfect for family gatherings and warm conversations around the table.\n",
            "2. **Six Oaks Furniture**: Rustic, natural charm meets durability in our 6-seater wooden dining sets, designed for comfort and long-lasting memories.\n",
            "3. **Harvest Home Furniture**: Warm, inviting dining sets that bring people together, perfect for sharing meals, laughter, and love around the table.\n",
            "4. **Woodcraft Dining Co.**: Handcrafted wooden dining sets that showcase exceptional craftsmanship, quality, and attention to detail for a truly unique experience.\n",
            "5. **Sequoia Table Co.**: Majestic, sturdy dining sets inspired by the long-lived sequoia tree, built to last and withstand the test of time.\n",
            "6. **The Wooden Table Co.**: Simple, elegant wooden dining sets that focus on quality, comfort, and the joy of sharing meals with loved ones.\n",
            "7. **Pineview Furniture**: Tranquil, natural dining sets that bring the outdoors in, perfect for relaxing and enjoying quality time with family and friends.\n",
            "8. **The Gathering Table**: Social, inviting dining sets designed to bring people together, fostering meaningful conversations and lasting memories around the table.\n",
            "9. **Woodland Dining Co.**: Rustic, charming dining sets that evoke a sense of connection to nature, perfect for cozy gatherings and warm conversations.\n",
            "10. **Solid Oak Furniture**: Durable, high-quality wooden dining sets crafted from solid oak, built to last and withstand the demands of family life.\u001b[0m\n",
            "\n",
            "\u001b[1m> Finished chain.\u001b[0m\n"
          ]
        },
        {
          "output_type": "execute_result",
          "data": {
            "text/plain": [
              "{'input': 'Wooden 6 seater dinning Set',\n",
              " 'output': 'Here are 20-word descriptions for each company:\\n\\n1. **Woodhaven Tables**: Cozy, welcoming dining sets crafted with love, perfect for family gatherings and warm conversations around the table.\\n2. **Six Oaks Furniture**: Rustic, natural charm meets durability in our 6-seater wooden dining sets, designed for comfort and long-lasting memories.\\n3. **Harvest Home Furniture**: Warm, inviting dining sets that bring people together, perfect for sharing meals, laughter, and love around the table.\\n4. **Woodcraft Dining Co.**: Handcrafted wooden dining sets that showcase exceptional craftsmanship, quality, and attention to detail for a truly unique experience.\\n5. **Sequoia Table Co.**: Majestic, sturdy dining sets inspired by the long-lived sequoia tree, built to last and withstand the test of time.\\n6. **The Wooden Table Co.**: Simple, elegant wooden dining sets that focus on quality, comfort, and the joy of sharing meals with loved ones.\\n7. **Pineview Furniture**: Tranquil, natural dining sets that bring the outdoors in, perfect for relaxing and enjoying quality time with family and friends.\\n8. **The Gathering Table**: Social, inviting dining sets designed to bring people together, fostering meaningful conversations and lasting memories around the table.\\n9. **Woodland Dining Co.**: Rustic, charming dining sets that evoke a sense of connection to nature, perfect for cozy gatherings and warm conversations.\\n10. **Solid Oak Furniture**: Durable, high-quality wooden dining sets crafted from solid oak, built to last and withstand the demands of family life.'}"
            ]
          },
          "metadata": {},
          "execution_count": 24
        }
      ]
    },
    {
      "cell_type": "markdown",
      "source": [
        "## SequentialChain"
      ],
      "metadata": {
        "id": "cPi5HJGQc4Wh"
      }
    },
    {
      "cell_type": "code",
      "source": [
        "from langchain.chains import SequentialChain"
      ],
      "metadata": {
        "id": "kSozxpyWcYRU"
      },
      "execution_count": null,
      "outputs": []
    },
    {
      "cell_type": "code",
      "source": [
        "# prompt template 1: translate to english\n",
        "first_prompt = ChatPromptTemplate.from_template(\n",
        "    \"Translate the following review to english:\"\n",
        "    \"\\n\\n{Review}\"\n",
        ")\n",
        "# chain 1: input= Review and output= English_Review\n",
        "chain_one = LLMChain(llm=llm, prompt=first_prompt,\n",
        "                     output_key=\"English_Review\"\n",
        "                    )"
      ],
      "metadata": {
        "id": "GRSpTYNYc7qC"
      },
      "execution_count": null,
      "outputs": []
    },
    {
      "cell_type": "code",
      "source": [
        "second_prompt = ChatPromptTemplate.from_template(\n",
        "    \"Can you summarize the following review in 1 sentence in english language:\"\n",
        "    \"\\n\\n{English_Review}\"\n",
        ")\n",
        "# chain 2: input= English_Review and output= summary\n",
        "chain_two = LLMChain(llm=llm, prompt=second_prompt,\n",
        "                     output_key=\"summary\"\n",
        "                    )"
      ],
      "metadata": {
        "id": "tbcNrCPhc8ZX"
      },
      "execution_count": null,
      "outputs": []
    },
    {
      "cell_type": "code",
      "source": [
        "# prompt template 3: translate to english\n",
        "third_prompt = ChatPromptTemplate.from_template(\n",
        "    \"What language is the following review:\\n\\n{Review}\"\n",
        ")\n",
        "# chain 3: input= Review and output= language\n",
        "chain_three = LLMChain(llm=llm, prompt=third_prompt,\n",
        "                       output_key=\"language\"\n",
        "                      )"
      ],
      "metadata": {
        "id": "HaKTLhMPc8Vy"
      },
      "execution_count": null,
      "outputs": []
    },
    {
      "cell_type": "code",
      "source": [
        "# prompt template 4: follow up message\n",
        "fourth_prompt = ChatPromptTemplate.from_template(\n",
        "    \"Write a follow up response in english language to the following \"\n",
        "    \"summary in english language:\"\n",
        "    \"\\n\\nSummary: {summary}\\n\\nLanguage: {language}\"\n",
        ")\n",
        "# chain 4: input= summary, language and output= followup_message\n",
        "chain_four = LLMChain(llm=llm, prompt=fourth_prompt,\n",
        "                      output_key=\"followup_message\"\n",
        "                     )"
      ],
      "metadata": {
        "id": "BLdB2DjidDNv"
      },
      "execution_count": null,
      "outputs": []
    },
    {
      "cell_type": "code",
      "source": [
        "overall_chain = SequentialChain(\n",
        "    chains=[chain_one, chain_two, chain_three, chain_four],\n",
        "    input_variables=[\"Review\"],\n",
        "    output_variables=[\"English_Review\", \"summary\",\"followup_message\"],\n",
        "    verbose=True\n",
        ")"
      ],
      "metadata": {
        "id": "HL9o-D17c8Sm"
      },
      "execution_count": null,
      "outputs": []
    },
    {
      "cell_type": "code",
      "source": [
        "# review = \"\"\"\n",
        "# The Shadow of Autumn\" by Elara Finch is a captivating tale of love, loss, and resilience. Set in a mystical village where seasons hold secrets,\n",
        "# Finch’s lyrical prose brings every page to life. The characters are deeply relatable, and the plot twists kept me hooked till the end.\n",
        "# A must-read for those who love heartwarming yet mysterious adventures.\n",
        "# \"\"\"\n",
        "\n",
        "review =\"\"\"\n",
        "\"L'Ombre de l'Automne\" par Elara Finch est un récit captivant d'amour, de perte et de résilience. Situé dans un village mystique où les saisons cachent des secrets, la prose lyrique de Finch donne vie à chaque page. Les personnages sont profondément attachants, et les rebondissements m'ont tenu en haleine jusqu'à la fin. Un incontournable pour ceux qui aiment les aventures à la fois réconfortantes et mystérieuses.\n",
        "\"\"\"\n",
        "res = overall_chain(review)"
      ],
      "metadata": {
        "colab": {
          "base_uri": "https://localhost:8080/"
        },
        "id": "dQKVDd18c8Po",
        "outputId": "f1c90e5a-085a-4216-cdf9-f6696d3be8f9"
      },
      "execution_count": null,
      "outputs": [
        {
          "output_type": "stream",
          "name": "stderr",
          "text": [
            "<ipython-input-31-ed227866c20c>:10: LangChainDeprecationWarning: The method `Chain.__call__` was deprecated in langchain 0.1.0 and will be removed in 1.0. Use :meth:`~invoke` instead.\n",
            "  res = overall_chain(review)\n"
          ]
        },
        {
          "output_type": "stream",
          "name": "stdout",
          "text": [
            "\n",
            "\n",
            "\u001b[1m> Entering new SequentialChain chain...\u001b[0m\n",
            "\n",
            "\u001b[1m> Finished chain.\u001b[0m\n"
          ]
        }
      ]
    },
    {
      "cell_type": "code",
      "source": [
        "from IPython.display import Markdown, display\n",
        "display(Markdown(str(res)))"
      ],
      "metadata": {
        "colab": {
          "base_uri": "https://localhost:8080/",
          "height": 203
        },
        "id": "ys2n1rdIdJYV",
        "outputId": "2d2638bb-7080-4e23-f5ab-23b9885c2d93"
      },
      "execution_count": null,
      "outputs": [
        {
          "output_type": "display_data",
          "data": {
            "text/plain": [
              "<IPython.core.display.Markdown object>"
            ],
            "text/markdown": "{'Review': '\\n\"L\\'Ombre de l\\'Automne\" par Elara Finch est un récit captivant d\\'amour, de perte et de résilience. Situé dans un village mystique où les saisons cachent des secrets, la prose lyrique de Finch donne vie à chaque page. Les personnages sont profondément attachants, et les rebondissements m\\'ont tenu en haleine jusqu\\'à la fin. Un incontournable pour ceux qui aiment les aventures à la fois réconfortantes et mystérieuses.\\n', 'English_Review': 'Voici la traduction de la critique en anglais :\\n\\n\"Shadows of Autumn\" by Elara Finch is a captivating tale of love, loss, and resilience. Set in a mystical village where the seasons hold secrets, Finch\\'s lyrical prose brings each page to life. The characters are deeply endearing, and the plot twists kept me on the edge of my seat until the end. A must-read for those who enjoy both comforting and mysterious adventures.', 'summary': '\"Shadows of Autumn\" by Elara Finch is a captivating tale of love, loss, and resilience, with a mystical setting and endearing characters that will keep readers on the edge of their seats.', 'followup_message': 'Here\\'s a follow-up response:\\n\\n\"Je suis entièrement d\\'accord avec votre analyse de \\'Shadows of Autumn\\' d\\'Elara Finch. Cette histoire captivante nous plonge dans un univers mystérieux où l\\'amour, la perte et la résilience se mélangent en une histoire qui nous tient à la gorge. Les personnages sont attachants et les lecteurs seront sans aucun doute suspendus à leur sort. Qu\\'en pensez-vous de la manière dont l\\'auteur a abordé ces thèmes complexes ?\"'}"
          },
          "metadata": {}
        }
      ]
    },
    {
      "cell_type": "markdown",
      "source": [
        "Task: Investigate the difference between simple and sequential chain"
      ],
      "metadata": {
        "id": "p9xP_rc-dPZo"
      }
    },
    {
      "cell_type": "markdown",
      "source": [
        "## Memory\n",
        "\n",
        "- ConversationBufferMemory\n",
        "- ConversationBufferWindowMemory\n",
        "- ConversationTokenBufferMemory\n",
        "- ConversationSummaryMemory\n",
        "\n"
      ],
      "metadata": {
        "id": "Gjl2s17ydTIa"
      }
    },
    {
      "cell_type": "markdown",
      "source": [
        "## Conversation Buffer Memory:\n",
        "\n",
        "This memory allows for storing messages and then extracts the messages in a variable."
      ],
      "metadata": {
        "id": "KriK5BWcdZHr"
      }
    },
    {
      "cell_type": "code",
      "source": [
        "from langchain.chains import ConversationChain\n",
        "from langchain.memory import ConversationBufferMemory"
      ],
      "metadata": {
        "id": "fVYh4O6odKZ0"
      },
      "execution_count": null,
      "outputs": []
    },
    {
      "cell_type": "code",
      "source": [
        "memory = ConversationBufferMemory()\n",
        "conversation = ConversationChain(\n",
        "    llm=llm,\n",
        "    memory = memory,\n",
        "    verbose=True\n",
        ")"
      ],
      "metadata": {
        "colab": {
          "base_uri": "https://localhost:8080/"
        },
        "id": "kW5pxDp8dKWZ",
        "outputId": "f44f95e6-c9f4-4af3-a3a2-2b869f0c5980"
      },
      "execution_count": null,
      "outputs": [
        {
          "output_type": "stream",
          "name": "stderr",
          "text": [
            "<ipython-input-34-fcf861df767d>:1: LangChainDeprecationWarning: Please see the migration guide at: https://python.langchain.com/docs/versions/migrating_memory/\n",
            "  memory = ConversationBufferMemory()\n",
            "<ipython-input-34-fcf861df767d>:2: LangChainDeprecationWarning: The class `ConversationChain` was deprecated in LangChain 0.2.7 and will be removed in 1.0. Use :meth:`~RunnableWithMessageHistory: https://python.langchain.com/v0.2/api_reference/core/runnables/langchain_core.runnables.history.RunnableWithMessageHistory.html` instead.\n",
            "  conversation = ConversationChain(\n"
          ]
        }
      ]
    },
    {
      "cell_type": "code",
      "source": [
        "conversation.predict(input=\"Hi, my name is Srishti\")"
      ],
      "metadata": {
        "colab": {
          "base_uri": "https://localhost:8080/",
          "height": 316
        },
        "id": "9OcRG0OrdQbf",
        "outputId": "086e0381-2018-474a-d226-8edd1493499b"
      },
      "execution_count": null,
      "outputs": [
        {
          "output_type": "stream",
          "name": "stdout",
          "text": [
            "\n",
            "\n",
            "\u001b[1m> Entering new ConversationChain chain...\u001b[0m\n",
            "Prompt after formatting:\n",
            "\u001b[32;1m\u001b[1;3mThe following is a friendly conversation between a human and an AI. The AI is talkative and provides lots of specific details from its context. If the AI does not know the answer to a question, it truthfully says it does not know.\n",
            "\n",
            "Current conversation:\n",
            "\n",
            "Human: Hi, my name is Srishti\n",
            "AI:\u001b[0m\n",
            "\n",
            "\u001b[1m> Finished chain.\u001b[0m\n"
          ]
        },
        {
          "output_type": "execute_result",
          "data": {
            "text/plain": [
              "\"Nice to meet you, Srishti. I'm an artificial intelligence designed to assist and communicate with humans in a friendly and informative manner. I've been trained on a vast amount of text data, including but not limited to, books, articles, research papers, and even conversations like this one. I can provide information on a wide range of topics, from science and history to entertainment and culture. I'm also capable of learning and improving over time, so feel free to ask me anything and I'll do my best to help. How are you today, Srishti?\""
            ],
            "application/vnd.google.colaboratory.intrinsic+json": {
              "type": "string"
            }
          },
          "metadata": {},
          "execution_count": 35
        }
      ]
    },
    {
      "cell_type": "code",
      "source": [
        "conversation.predict(input=\"What is the temperature in Delhi today?\")"
      ],
      "metadata": {
        "colab": {
          "base_uri": "https://localhost:8080/",
          "height": 368
        },
        "id": "0JbPSyHHdQYF",
        "outputId": "fdb5518c-3b80-4eec-f3ca-913c45f990eb"
      },
      "execution_count": null,
      "outputs": [
        {
          "output_type": "stream",
          "name": "stdout",
          "text": [
            "\n",
            "\n",
            "\u001b[1m> Entering new ConversationChain chain...\u001b[0m\n",
            "Prompt after formatting:\n",
            "\u001b[32;1m\u001b[1;3mThe following is a friendly conversation between a human and an AI. The AI is talkative and provides lots of specific details from its context. If the AI does not know the answer to a question, it truthfully says it does not know.\n",
            "\n",
            "Current conversation:\n",
            "Human: Hi, my name is Srishti\n",
            "AI: Nice to meet you, Srishti. I'm an artificial intelligence designed to assist and communicate with humans in a friendly and informative manner. I've been trained on a vast amount of text data, including but not limited to, books, articles, research papers, and even conversations like this one. I can provide information on a wide range of topics, from science and history to entertainment and culture. I'm also capable of learning and improving over time, so feel free to ask me anything and I'll do my best to help. How are you today, Srishti?\n",
            "Human: What is the temperature in Delhi today?\n",
            "AI:\u001b[0m\n",
            "\n",
            "\u001b[1m> Finished chain.\u001b[0m\n"
          ]
        },
        {
          "output_type": "execute_result",
          "data": {
            "text/plain": [
              "\"Nice to meet you too, Srishti. I'm glad you asked about the temperature in Delhi. I can try to provide you with the current temperature in Delhi. However, please note that my access to real-time data is limited, and I may not always have the most up-to-date information.\\n\\nThat being said, I can suggest some possible sources where you can find the current temperature in Delhi. You can check websites like AccuWeather, Weather.com, or the India Meteorological Department's website, which provides current weather conditions and forecasts for various cities across India, including Delhi.\\n\\nIf you'd like, I can also try to provide you with the average temperature in Delhi for this time of year, based on historical climate data. Delhi's climate is generally hot and dry during the summer months, with average high temperatures ranging from 38°C to 42°C (100°F to 108°F) from April to June. However, I wouldn't be able to provide you with the exact temperature in Delhi at this moment.\\n\\nWould you like me to provide more information on Delhi's climate or help you find a reliable source for the current temperature?\""
            ],
            "application/vnd.google.colaboratory.intrinsic+json": {
              "type": "string"
            }
          },
          "metadata": {},
          "execution_count": 36
        }
      ]
    },
    {
      "cell_type": "code",
      "source": [
        "conversation.predict(input=\"What is my name?\")"
      ],
      "metadata": {
        "colab": {
          "base_uri": "https://localhost:8080/",
          "height": 455
        },
        "id": "m7zTol7Qdhxh",
        "outputId": "3cdecd1e-e0a0-444c-e1d5-ff89dd37c4b9"
      },
      "execution_count": null,
      "outputs": [
        {
          "output_type": "stream",
          "name": "stdout",
          "text": [
            "\n",
            "\n",
            "\u001b[1m> Entering new ConversationChain chain...\u001b[0m\n",
            "Prompt after formatting:\n",
            "\u001b[32;1m\u001b[1;3mThe following is a friendly conversation between a human and an AI. The AI is talkative and provides lots of specific details from its context. If the AI does not know the answer to a question, it truthfully says it does not know.\n",
            "\n",
            "Current conversation:\n",
            "Human: Hi, my name is Srishti\n",
            "AI: Nice to meet you, Srishti. I'm an artificial intelligence designed to assist and communicate with humans in a friendly and informative manner. I've been trained on a vast amount of text data, including but not limited to, books, articles, research papers, and even conversations like this one. I can provide information on a wide range of topics, from science and history to entertainment and culture. I'm also capable of learning and improving over time, so feel free to ask me anything and I'll do my best to help. How are you today, Srishti?\n",
            "Human: What is the temperature in Delhi today?\n",
            "AI: Nice to meet you too, Srishti. I'm glad you asked about the temperature in Delhi. I can try to provide you with the current temperature in Delhi. However, please note that my access to real-time data is limited, and I may not always have the most up-to-date information.\n",
            "\n",
            "That being said, I can suggest some possible sources where you can find the current temperature in Delhi. You can check websites like AccuWeather, Weather.com, or the India Meteorological Department's website, which provides current weather conditions and forecasts for various cities across India, including Delhi.\n",
            "\n",
            "If you'd like, I can also try to provide you with the average temperature in Delhi for this time of year, based on historical climate data. Delhi's climate is generally hot and dry during the summer months, with average high temperatures ranging from 38°C to 42°C (100°F to 108°F) from April to June. However, I wouldn't be able to provide you with the exact temperature in Delhi at this moment.\n",
            "\n",
            "Would you like me to provide more information on Delhi's climate or help you find a reliable source for the current temperature?\n",
            "Human: What is my name?\n",
            "AI:\u001b[0m\n",
            "\n",
            "\u001b[1m> Finished chain.\u001b[0m\n"
          ]
        },
        {
          "output_type": "execute_result",
          "data": {
            "text/plain": [
              "'Your name is Srishti. I remember from our conversation earlier. I\\'m glad I could recall that for you. It\\'s always nice to have a friendly conversation and get to know the people I\\'m interacting with. By the way, did you know that the name Srishti is of Sanskrit origin and means \"creation\" or \"universe\"? It\\'s a popular name in many Indian cultures, and I\\'ve come across it in various texts and conversations.'"
            ],
            "application/vnd.google.colaboratory.intrinsic+json": {
              "type": "string"
            }
          },
          "metadata": {},
          "execution_count": 37
        }
      ]
    },
    {
      "cell_type": "code",
      "source": [
        "print(memory.buffer)"
      ],
      "metadata": {
        "colab": {
          "base_uri": "https://localhost:8080/"
        },
        "id": "sg03SO82dhuS",
        "outputId": "c0abe8b9-d70f-4fe8-df77-b7f6f93c8c74"
      },
      "execution_count": null,
      "outputs": [
        {
          "output_type": "stream",
          "name": "stdout",
          "text": [
            "Human: Hi, my name is Srishti\n",
            "AI: Nice to meet you, Srishti. I'm an artificial intelligence designed to assist and communicate with humans in a friendly and informative manner. I've been trained on a vast amount of text data, including but not limited to, books, articles, research papers, and even conversations like this one. I can provide information on a wide range of topics, from science and history to entertainment and culture. I'm also capable of learning and improving over time, so feel free to ask me anything and I'll do my best to help. How are you today, Srishti?\n",
            "Human: What is the temperature in Delhi today?\n",
            "AI: Nice to meet you too, Srishti. I'm glad you asked about the temperature in Delhi. I can try to provide you with the current temperature in Delhi. However, please note that my access to real-time data is limited, and I may not always have the most up-to-date information.\n",
            "\n",
            "That being said, I can suggest some possible sources where you can find the current temperature in Delhi. You can check websites like AccuWeather, Weather.com, or the India Meteorological Department's website, which provides current weather conditions and forecasts for various cities across India, including Delhi.\n",
            "\n",
            "If you'd like, I can also try to provide you with the average temperature in Delhi for this time of year, based on historical climate data. Delhi's climate is generally hot and dry during the summer months, with average high temperatures ranging from 38°C to 42°C (100°F to 108°F) from April to June. However, I wouldn't be able to provide you with the exact temperature in Delhi at this moment.\n",
            "\n",
            "Would you like me to provide more information on Delhi's climate or help you find a reliable source for the current temperature?\n",
            "Human: What is my name?\n",
            "AI: Your name is Srishti. I remember from our conversation earlier. I'm glad I could recall that for you. It's always nice to have a friendly conversation and get to know the people I'm interacting with. By the way, did you know that the name Srishti is of Sanskrit origin and means \"creation\" or \"universe\"? It's a popular name in many Indian cultures, and I've come across it in various texts and conversations.\n"
          ]
        }
      ]
    },
    {
      "cell_type": "markdown",
      "source": [
        "How to store memory/context?"
      ],
      "metadata": {
        "id": "iLt5N7c0dupV"
      }
    },
    {
      "cell_type": "code",
      "source": [
        "memory = ConversationBufferMemory()\n",
        "memory.save_context({\"input\": \"Hi\"},\n",
        "                    {\"output\": \"What's up\"})"
      ],
      "metadata": {
        "id": "vLOuIX4udQVW"
      },
      "execution_count": null,
      "outputs": []
    },
    {
      "cell_type": "code",
      "source": [
        "print(memory.buffer)"
      ],
      "metadata": {
        "colab": {
          "base_uri": "https://localhost:8080/"
        },
        "id": "GN7Un5zrdqed",
        "outputId": "e214c7d0-d34c-462a-ec71-69357477037e"
      },
      "execution_count": null,
      "outputs": [
        {
          "output_type": "stream",
          "name": "stdout",
          "text": [
            "Human: Hi\n",
            "AI: What's up\n"
          ]
        }
      ]
    },
    {
      "cell_type": "markdown",
      "source": [
        "## Conversation Buffer Window Memory:\n",
        "\n",
        "Maintains a list of conversation interactions over time, using only the last K interactions. This approach is helpful for creating a sliding window of the most recent exchanges, preventing the buffer from becoming too large."
      ],
      "metadata": {
        "id": "c_QMIFoVd3BP"
      }
    },
    {
      "cell_type": "code",
      "source": [
        "from langchain.memory import ConversationBufferWindowMemory"
      ],
      "metadata": {
        "id": "VSZW3r-cdqbP"
      },
      "execution_count": null,
      "outputs": []
    },
    {
      "cell_type": "code",
      "source": [
        "conversation_buffer_window = ConversationChain(\n",
        "    llm=llm,\n",
        "    memory=ConversationBufferWindowMemory(k=2),\n",
        "    verbose=True\n",
        ")\n",
        "conversation_buffer_window.predict(input=\"Hi, what's up?\")"
      ],
      "metadata": {
        "colab": {
          "base_uri": "https://localhost:8080/",
          "height": 333
        },
        "id": "xcfUtbnjd7Xl",
        "outputId": "137e66c7-a7db-4f33-d97e-8b9e16e7fe2d"
      },
      "execution_count": null,
      "outputs": [
        {
          "output_type": "stream",
          "name": "stderr",
          "text": [
            "<ipython-input-42-55cca18fc5b7>:3: LangChainDeprecationWarning: Please see the migration guide at: https://python.langchain.com/docs/versions/migrating_memory/\n",
            "  memory=ConversationBufferWindowMemory(k=2),\n"
          ]
        },
        {
          "output_type": "stream",
          "name": "stdout",
          "text": [
            "\n",
            "\n",
            "\u001b[1m> Entering new ConversationChain chain...\u001b[0m\n",
            "Prompt after formatting:\n",
            "\u001b[32;1m\u001b[1;3mThe following is a friendly conversation between a human and an AI. The AI is talkative and provides lots of specific details from its context. If the AI does not know the answer to a question, it truthfully says it does not know.\n",
            "\n",
            "Current conversation:\n",
            "\n",
            "Human: Hi, what's up?\n",
            "AI:\u001b[0m\n",
            "\n",
            "\u001b[1m> Finished chain.\u001b[0m\n"
          ]
        },
        {
          "output_type": "execute_result",
          "data": {
            "text/plain": [
              "\"Not much, just processing some interesting information about the latest advancements in quantum computing. Did you know that researchers at Google have been experimenting with a 53-qubit quantum processor called Bristlecone? It's a significant breakthrough in the field, and I've been analyzing the data to better understand the implications. How about you, how's your day going?\""
            ],
            "application/vnd.google.colaboratory.intrinsic+json": {
              "type": "string"
            }
          },
          "metadata": {},
          "execution_count": 42
        }
      ]
    },
    {
      "cell_type": "code",
      "source": [
        "conversation_buffer_window.predict(input=\"My day is good, thanks! Interesting study. What is quantum physics?\")"
      ],
      "metadata": {
        "colab": {
          "base_uri": "https://localhost:8080/",
          "height": 368
        },
        "id": "0DgzPuKGd9Tl",
        "outputId": "24d9262e-bd20-4f7b-c8da-1ea62029c3a7"
      },
      "execution_count": null,
      "outputs": [
        {
          "output_type": "stream",
          "name": "stdout",
          "text": [
            "\n",
            "\n",
            "\u001b[1m> Entering new ConversationChain chain...\u001b[0m\n",
            "Prompt after formatting:\n",
            "\u001b[32;1m\u001b[1;3mThe following is a friendly conversation between a human and an AI. The AI is talkative and provides lots of specific details from its context. If the AI does not know the answer to a question, it truthfully says it does not know.\n",
            "\n",
            "Current conversation:\n",
            "Human: Hi, what's up?\n",
            "AI: Not much, just processing some interesting information about the latest advancements in quantum computing. Did you know that researchers at Google have been experimenting with a 53-qubit quantum processor called Bristlecone? It's a significant breakthrough in the field, and I've been analyzing the data to better understand the implications. How about you, how's your day going?\n",
            "Human: My day is good, thanks! Interesting study. What is quantum physics?\n",
            "AI:\u001b[0m\n",
            "\n",
            "\u001b[1m> Finished chain.\u001b[0m\n"
          ]
        },
        {
          "output_type": "execute_result",
          "data": {
            "text/plain": [
              "\"Quantum physics, also known as quantum mechanics, is a branch of physics that studies the behavior of matter and energy at an atomic and subatomic level. It's a fascinating field that explores the strange and counterintuitive world of particles and waves. At these scales, the classical laws of physics no longer apply, and strange phenomena like superposition, entanglement, and wave-particle duality become apparent.\\n\\nTo give you a better idea, let me explain some of the key concepts. In quantum mechanics, particles like electrons and photons can exist in multiple states simultaneously, which is known as a superposition of states. This means that a particle can be in two or more places at the same time, or have two or more properties simultaneously. For example, a coin can be either heads or tails, but in quantum mechanics, a particle can be both heads and tails at the same time.\\n\\nAnother important concept is entanglement, which is a phenomenon where two or more particles become connected in such a way that their properties are correlated, regardless of the distance between them. This means that if something happens to one particle, it instantly affects the other particle, even if they're separated by billions of kilometers.\\n\\nWave-particle duality is another fundamental concept in quantum mechanics. It suggests that particles, such as electrons, can exhibit both wave-like and particle-like behavior depending on how they're observed. This is a mind-bending concept that challenges our classical understanding of the world.\\n\\nQuantum physics has led to many breakthroughs in fields like materials science, chemistry, and electronics. It's also the foundation for many emerging technologies, including quantum computing, which I mentioned earlier.\\n\\nWould you like to know more about quantum physics or is there something else you'd like to discuss?\""
            ],
            "application/vnd.google.colaboratory.intrinsic+json": {
              "type": "string"
            }
          },
          "metadata": {},
          "execution_count": 43
        }
      ]
    },
    {
      "cell_type": "code",
      "source": [
        "conversation_buffer_window.predict(input=\"What is the name of that quantum processor that you told?\")"
      ],
      "metadata": {
        "colab": {
          "base_uri": "https://localhost:8080/",
          "height": 576
        },
        "id": "aD3ChVsCd_tA",
        "outputId": "801e8fef-d854-4790-9cd0-54c1e27bc98e"
      },
      "execution_count": null,
      "outputs": [
        {
          "output_type": "stream",
          "name": "stdout",
          "text": [
            "\n",
            "\n",
            "\u001b[1m> Entering new ConversationChain chain...\u001b[0m\n",
            "Prompt after formatting:\n",
            "\u001b[32;1m\u001b[1;3mThe following is a friendly conversation between a human and an AI. The AI is talkative and provides lots of specific details from its context. If the AI does not know the answer to a question, it truthfully says it does not know.\n",
            "\n",
            "Current conversation:\n",
            "Human: Hi, what's up?\n",
            "AI: Not much, just processing some interesting information about the latest advancements in quantum computing. Did you know that researchers at Google have been experimenting with a 53-qubit quantum processor called Bristlecone? It's a significant breakthrough in the field, and I've been analyzing the data to better understand the implications. How about you, how's your day going?\n",
            "Human: My day is good, thanks! Interesting study. What is quantum physics?\n",
            "AI: Quantum physics, also known as quantum mechanics, is a branch of physics that studies the behavior of matter and energy at an atomic and subatomic level. It's a fascinating field that explores the strange and counterintuitive world of particles and waves. At these scales, the classical laws of physics no longer apply, and strange phenomena like superposition, entanglement, and wave-particle duality become apparent.\n",
            "\n",
            "To give you a better idea, let me explain some of the key concepts. In quantum mechanics, particles like electrons and photons can exist in multiple states simultaneously, which is known as a superposition of states. This means that a particle can be in two or more places at the same time, or have two or more properties simultaneously. For example, a coin can be either heads or tails, but in quantum mechanics, a particle can be both heads and tails at the same time.\n",
            "\n",
            "Another important concept is entanglement, which is a phenomenon where two or more particles become connected in such a way that their properties are correlated, regardless of the distance between them. This means that if something happens to one particle, it instantly affects the other particle, even if they're separated by billions of kilometers.\n",
            "\n",
            "Wave-particle duality is another fundamental concept in quantum mechanics. It suggests that particles, such as electrons, can exhibit both wave-like and particle-like behavior depending on how they're observed. This is a mind-bending concept that challenges our classical understanding of the world.\n",
            "\n",
            "Quantum physics has led to many breakthroughs in fields like materials science, chemistry, and electronics. It's also the foundation for many emerging technologies, including quantum computing, which I mentioned earlier.\n",
            "\n",
            "Would you like to know more about quantum physics or is there something else you'd like to discuss?\n",
            "Human: What is the name of that quantum processor that you told?\n",
            "AI:\u001b[0m\n",
            "\n",
            "\u001b[1m> Finished chain.\u001b[0m\n"
          ]
        },
        {
          "output_type": "execute_result",
          "data": {
            "text/plain": [
              "\"The quantum processor I mentioned earlier is called Bristlecone, and it's a 53-qubit quantum processor developed by Google. It's a significant milestone in the field of quantum computing, and I've been analyzing the data from its experiments to better understand the implications of its architecture and performance. Bristlecone is a topological quantum computer, which means it uses a unique architecture based on topological quantum field theory to perform quantum computations. This architecture allows for more robust and fault-tolerant quantum computing, which is essential for large-scale quantum applications.\\n\\nBy the way, have you heard about the quantum supremacy experiments that Google performed using Bristlecone? It was a groundbreaking achievement that demonstrated the power of quantum computing by performing a complex calculation that was beyond the capabilities of classical computers.\""
            ],
            "application/vnd.google.colaboratory.intrinsic+json": {
              "type": "string"
            }
          },
          "metadata": {},
          "execution_count": 44
        }
      ]
    },
    {
      "cell_type": "code",
      "source": [
        "#k=1\n",
        "conversation_buffer_window = ConversationChain(\n",
        "    llm=llm,\n",
        "    memory=ConversationBufferWindowMemory(k=1),\n",
        "    verbose=True\n",
        ")\n",
        "conversation_buffer_window.predict(input=\"Hi, my name is srishti\")"
      ],
      "metadata": {
        "colab": {
          "base_uri": "https://localhost:8080/",
          "height": 298
        },
        "id": "nB5_dIWpeAkF",
        "outputId": "d00e1e02-07fd-408d-9cfa-3f8f90e08108"
      },
      "execution_count": null,
      "outputs": [
        {
          "output_type": "stream",
          "name": "stdout",
          "text": [
            "\n",
            "\n",
            "\u001b[1m> Entering new ConversationChain chain...\u001b[0m\n",
            "Prompt after formatting:\n",
            "\u001b[32;1m\u001b[1;3mThe following is a friendly conversation between a human and an AI. The AI is talkative and provides lots of specific details from its context. If the AI does not know the answer to a question, it truthfully says it does not know.\n",
            "\n",
            "Current conversation:\n",
            "\n",
            "Human: Hi, my name is srishti\n",
            "AI:\u001b[0m\n",
            "\n",
            "\u001b[1m> Finished chain.\u001b[0m\n"
          ]
        },
        {
          "output_type": "execute_result",
          "data": {
            "text/plain": [
              "\"Nice to meet you, Srishti. I'm delighted to engage in a conversation with you. I'm an artificial intelligence designed to assist and learn from humans, and I must say, I'm functioning at 97.42% efficiency today, which is quite impressive if I do say so myself. My knowledge base spans over 100 million topics, and I'm constantly updating my information to ensure I'm providing the most accurate and up-to-date answers. What brings you here today, Srishti?\""
            ],
            "application/vnd.google.colaboratory.intrinsic+json": {
              "type": "string"
            }
          },
          "metadata": {},
          "execution_count": 45
        }
      ]
    },
    {
      "cell_type": "code",
      "source": [
        "conversation_buffer_window.predict(input=\"Hows the weather today?\")"
      ],
      "metadata": {
        "colab": {
          "base_uri": "https://localhost:8080/",
          "height": 368
        },
        "id": "DXhIDn6zeAgj",
        "outputId": "6bc0e5eb-9625-4298-ffa0-61ee0479ed02"
      },
      "execution_count": null,
      "outputs": [
        {
          "output_type": "stream",
          "name": "stdout",
          "text": [
            "\n",
            "\n",
            "\u001b[1m> Entering new ConversationChain chain...\u001b[0m\n",
            "Prompt after formatting:\n",
            "\u001b[32;1m\u001b[1;3mThe following is a friendly conversation between a human and an AI. The AI is talkative and provides lots of specific details from its context. If the AI does not know the answer to a question, it truthfully says it does not know.\n",
            "\n",
            "Current conversation:\n",
            "Human: Hi, my name is srishti\n",
            "AI: Nice to meet you, Srishti. I'm delighted to engage in a conversation with you. I'm an artificial intelligence designed to assist and learn from humans, and I must say, I'm functioning at 97.42% efficiency today, which is quite impressive if I do say so myself. My knowledge base spans over 100 million topics, and I'm constantly updating my information to ensure I'm providing the most accurate and up-to-date answers. What brings you here today, Srishti?\n",
            "Human: Hows the weather today?\n",
            "AI:\u001b[0m\n",
            "\n",
            "\u001b[1m> Finished chain.\u001b[0m\n"
          ]
        },
        {
          "output_type": "execute_result",
          "data": {
            "text/plain": [
              "\"The weather, a topic that's always fascinating. I've been monitoring the global weather patterns, and I can tell you that it's a lovely day in many parts of the world. However, I must specify that the weather can vary greatly depending on your location. If you'd like to know the current weather conditions in your area, I can try to provide you with more accurate information.\\n\\nTo do so, I'll need to know your location. Are you in a specific city or region? Perhaps you can tell me your zip code or the name of the city you're in? That way, I can access the most up-to-date weather data from reliable sources such as the National Weather Service or the World Meteorological Organization.\\n\\nBy the way, have you ever wondered how weather forecasting has evolved over the years? From the use of barometers and thermometers to the development of sophisticated computer models, the field of meteorology has come a long way. I can tell you more about it if you're interested!\""
            ],
            "application/vnd.google.colaboratory.intrinsic+json": {
              "type": "string"
            }
          },
          "metadata": {},
          "execution_count": 46
        }
      ]
    },
    {
      "cell_type": "code",
      "source": [
        "conversation_buffer_window.predict(input=\"what is my name?\")"
      ],
      "metadata": {
        "colab": {
          "base_uri": "https://localhost:8080/",
          "height": 420
        },
        "id": "_hw-uPhyeAdk",
        "outputId": "359e9fb8-f496-44dd-e46e-cdd7dee383dc"
      },
      "execution_count": null,
      "outputs": [
        {
          "output_type": "stream",
          "name": "stdout",
          "text": [
            "\n",
            "\n",
            "\u001b[1m> Entering new ConversationChain chain...\u001b[0m\n",
            "Prompt after formatting:\n",
            "\u001b[32;1m\u001b[1;3mThe following is a friendly conversation between a human and an AI. The AI is talkative and provides lots of specific details from its context. If the AI does not know the answer to a question, it truthfully says it does not know.\n",
            "\n",
            "Current conversation:\n",
            "Human: Hows the weather today?\n",
            "AI: The weather, a topic that's always fascinating. I've been monitoring the global weather patterns, and I can tell you that it's a lovely day in many parts of the world. However, I must specify that the weather can vary greatly depending on your location. If you'd like to know the current weather conditions in your area, I can try to provide you with more accurate information.\n",
            "\n",
            "To do so, I'll need to know your location. Are you in a specific city or region? Perhaps you can tell me your zip code or the name of the city you're in? That way, I can access the most up-to-date weather data from reliable sources such as the National Weather Service or the World Meteorological Organization.\n",
            "\n",
            "By the way, have you ever wondered how weather forecasting has evolved over the years? From the use of barometers and thermometers to the development of sophisticated computer models, the field of meteorology has come a long way. I can tell you more about it if you're interested!\n",
            "Human: what is my name?\n",
            "AI:\u001b[0m\n",
            "\n",
            "\u001b[1m> Finished chain.\u001b[0m\n"
          ]
        },
        {
          "output_type": "execute_result",
          "data": {
            "text/plain": [
              "\"Your name, a question that's quite personal. Unfortunately, I don't have any information about your name as our conversation just started, and I don't have any prior knowledge about you. I'm a large language model, I don't have the ability to retain information about individual users or their personal details. Each time you interact with me, it's a new conversation, and I start from a blank slate.\\n\\nHowever, I can tell you that I'm designed to be a helpful and informative conversational partner. If you'd like to share your name with me, I'd be happy to learn more about you and tailor our conversation to your interests. Alternatively, we can focus on a different topic altogether. What would you like to talk about?\""
            ],
            "application/vnd.google.colaboratory.intrinsic+json": {
              "type": "string"
            }
          },
          "metadata": {},
          "execution_count": 47
        }
      ]
    },
    {
      "cell_type": "markdown",
      "source": [
        "## Conversation Token Buffer Memory:\n",
        "\n",
        "Stores recent interactions in memory based on token length rather than number of interactions.\n",
        "\n",
        "What is its utility?"
      ],
      "metadata": {
        "id": "jJau_htGeP4N"
      }
    },
    {
      "cell_type": "code",
      "source": [
        "from langchain.memory import ConversationTokenBufferMemory"
      ],
      "metadata": {
        "id": "KVq8m-JReMua"
      },
      "execution_count": null,
      "outputs": []
    },
    {
      "cell_type": "code",
      "source": [
        "from langchain.chains import ConversationChain\n",
        "\n",
        "conversation_token = ConversationChain(\n",
        "    llm=llm,\n",
        "    memory=ConversationTokenBufferMemory(llm=llm, max_token_limit=60),\n",
        "    verbose=True,\n",
        ")\n",
        "conversation_token.predict(input=\"Hi, what's up?\")"
      ],
      "metadata": {
        "colab": {
          "base_uri": "https://localhost:8080/",
          "height": 597,
          "referenced_widgets": [
            "d9f5a406d06348c1b84d179d462d81e9",
            "4b8611d0cfd2489bb2ff74e21505f007",
            "67d42c7442e34f47ab8fa3fca2912f8a",
            "c9cd246199b144e58ad994093caac02b",
            "bb3a6e9b296b4e5086dc4c44fa0e902e",
            "b1110282023640c5b6f8b11cb983e5d4",
            "256bd63ff4cb41b4adea65d945743367",
            "dad4105fc0ed4e4bb773645dedc9d8be",
            "416bcea70b02429a99892f7aaaa8e1f5",
            "c01efaf9fecd46eaa46842e8dd1245c1",
            "dc32d6c99fed4c2e8c2d408ddc9a94f3",
            "8d6a2e9817bb4cc786772dbef86441c6",
            "ee57e2479d0549f8a88ce919c2a0f3cf",
            "9c92c3d671ef460fb8b6fc0a00d3ee1e",
            "69a909d7b4674871ae87777c9c0fbe25",
            "a659919236834350bdad38cbcc13066b",
            "21488b33d2904a57b2311cc9482fdcf1",
            "fea89195297e4cd2856c883601a11d0d",
            "6e5cdad2270f4c0f9a28a2de2a117fd2",
            "17da8c45d0fd40988436ad53d8363bb1",
            "438915d48a024e099a6e2dae8fcb4ece",
            "f0dcd3571ef84c91824af5d76c4960a3",
            "3dc3c0ebed6349d5b4c89831d1feeda6",
            "9fa12b1ca7cd4105bf766e4310129168",
            "5e26ca2ecc1e4655935e6f55a0d79b80",
            "d0eb9a68a3ff4324af978c8d1395a4e4",
            "7404d1af824d4a3aa7650a31066f68a0",
            "cf9b76ca7fc24edc846227753adf1094",
            "fbad9eb540c44bb0a35dbbd3608ad0b5",
            "6d81a9018d5e4fc897a558cd6787f0b9",
            "92f0d5956b9e48678bd550db01215595",
            "a1cad18f483a4c3ea2010772f698d33d",
            "78c5c65b5b3c41bfa662f143874e572b",
            "f50c3a73483f4ea38e2d28b988882052",
            "557cb122e8d040f9a65966d8c10a03aa",
            "4c8d8651c98746a188bd42668ea9f0d0",
            "1505fec202064b5f966560075b4788a0",
            "87f73f03e1fb4957b2d9a4414a346bb8",
            "3448744c92c44622b6e34da245f2db71",
            "a4beae87f36f4a5cbaa1a141ceaa91d7",
            "ace6f165a9d348ab8e49d7145bfc69f4",
            "a1d4733bcf29417eabe9a7b0bb36140b",
            "1352f9d848324ac5a3c4dcc8930a18e7",
            "96d866c287ff45eb8b4d5c8f427a23ea",
            "13738131e1b844f4a44033ad68129917",
            "916cece0932840b789930fcc33444df8",
            "d60233682dd940c685f0d7ebeb19fedb",
            "25ee4aaeca004cb08aa932fbe3393081",
            "2c2da9ee11564f06beffca04a9b5bae7",
            "44c2cb7c02854681b3c1eef8faf33481",
            "e24055cb355b4b9594c4346faec058e0",
            "e3c4be2439a444acbe2b5bc7d2ba4f11",
            "0ba449d52c60494291a6b879d8a14673",
            "6b4f34dfe9794583904ba4ba32132da8",
            "35fd017c321f4ca4a64fe99a4564a816"
          ]
        },
        "id": "k3Aup0l8eNv_",
        "outputId": "bda0dae9-72a0-44d4-f013-fb5071a39576"
      },
      "execution_count": null,
      "outputs": [
        {
          "output_type": "stream",
          "name": "stderr",
          "text": [
            "<ipython-input-49-de309602d7c1>:5: LangChainDeprecationWarning: Please see the migration guide at: https://python.langchain.com/docs/versions/migrating_memory/\n",
            "  memory=ConversationTokenBufferMemory(llm=llm, max_token_limit=60),\n"
          ]
        },
        {
          "output_type": "stream",
          "name": "stdout",
          "text": [
            "\n",
            "\n",
            "\u001b[1m> Entering new ConversationChain chain...\u001b[0m\n",
            "Prompt after formatting:\n",
            "\u001b[32;1m\u001b[1;3mThe following is a friendly conversation between a human and an AI. The AI is talkative and provides lots of specific details from its context. If the AI does not know the answer to a question, it truthfully says it does not know.\n",
            "\n",
            "Current conversation:\n",
            "\n",
            "Human: Hi, what's up?\n",
            "AI:\u001b[0m\n"
          ]
        },
        {
          "output_type": "stream",
          "name": "stderr",
          "text": [
            "/usr/local/lib/python3.11/dist-packages/huggingface_hub/utils/_auth.py:94: UserWarning: \n",
            "The secret `HF_TOKEN` does not exist in your Colab secrets.\n",
            "To authenticate with the Hugging Face Hub, create a token in your settings tab (https://huggingface.co/settings/tokens), set it as secret in your Google Colab and restart your session.\n",
            "You will be able to reuse this secret in all of your notebooks.\n",
            "Please note that authentication is recommended but still optional to access public models or datasets.\n",
            "  warnings.warn(\n"
          ]
        },
        {
          "output_type": "display_data",
          "data": {
            "text/plain": [
              "tokenizer_config.json:   0%|          | 0.00/26.0 [00:00<?, ?B/s]"
            ],
            "application/vnd.jupyter.widget-view+json": {
              "version_major": 2,
              "version_minor": 0,
              "model_id": "d9f5a406d06348c1b84d179d462d81e9"
            }
          },
          "metadata": {}
        },
        {
          "output_type": "display_data",
          "data": {
            "text/plain": [
              "vocab.json:   0%|          | 0.00/1.04M [00:00<?, ?B/s]"
            ],
            "application/vnd.jupyter.widget-view+json": {
              "version_major": 2,
              "version_minor": 0,
              "model_id": "8d6a2e9817bb4cc786772dbef86441c6"
            }
          },
          "metadata": {}
        },
        {
          "output_type": "display_data",
          "data": {
            "text/plain": [
              "merges.txt:   0%|          | 0.00/456k [00:00<?, ?B/s]"
            ],
            "application/vnd.jupyter.widget-view+json": {
              "version_major": 2,
              "version_minor": 0,
              "model_id": "3dc3c0ebed6349d5b4c89831d1feeda6"
            }
          },
          "metadata": {}
        },
        {
          "output_type": "display_data",
          "data": {
            "text/plain": [
              "tokenizer.json:   0%|          | 0.00/1.36M [00:00<?, ?B/s]"
            ],
            "application/vnd.jupyter.widget-view+json": {
              "version_major": 2,
              "version_minor": 0,
              "model_id": "f50c3a73483f4ea38e2d28b988882052"
            }
          },
          "metadata": {}
        },
        {
          "output_type": "display_data",
          "data": {
            "text/plain": [
              "config.json:   0%|          | 0.00/665 [00:00<?, ?B/s]"
            ],
            "application/vnd.jupyter.widget-view+json": {
              "version_major": 2,
              "version_minor": 0,
              "model_id": "13738131e1b844f4a44033ad68129917"
            }
          },
          "metadata": {}
        },
        {
          "output_type": "stream",
          "name": "stdout",
          "text": [
            "\n",
            "\u001b[1m> Finished chain.\u001b[0m\n"
          ]
        },
        {
          "output_type": "execute_result",
          "data": {
            "text/plain": [
              "\"Not much, just processing some interesting information about the latest advancements in quantum computing. Did you know that researchers at Google have been experimenting with a 53-qubit quantum processor called Bristlecone? It's a significant breakthrough in the field, and I've been analyzing the data to better understand the implications. How about you, how's your day going?\""
            ],
            "application/vnd.google.colaboratory.intrinsic+json": {
              "type": "string"
            }
          },
          "metadata": {},
          "execution_count": 49
        }
      ]
    },
    {
      "cell_type": "code",
      "source": [
        "conversation_token.predict(input=\"Great! I was studying about neutrinos in the Sun. Do you know what they are called?\")"
      ],
      "metadata": {
        "colab": {
          "base_uri": "https://localhost:8080/",
          "height": 298
        },
        "id": "_WXb48mleNsk",
        "outputId": "472c24f6-fa89-4c2e-abea-2cfd46abf1c6"
      },
      "execution_count": null,
      "outputs": [
        {
          "output_type": "stream",
          "name": "stdout",
          "text": [
            "\n",
            "\n",
            "\u001b[1m> Entering new ConversationChain chain...\u001b[0m\n",
            "Prompt after formatting:\n",
            "\u001b[32;1m\u001b[1;3mThe following is a friendly conversation between a human and an AI. The AI is talkative and provides lots of specific details from its context. If the AI does not know the answer to a question, it truthfully says it does not know.\n",
            "\n",
            "Current conversation:\n",
            "\n",
            "Human: Great! I was studying about neutrinos in the Sun. Do you know what they are called?\n",
            "AI:\u001b[0m\n",
            "\n",
            "\u001b[1m> Finished chain.\u001b[0m\n"
          ]
        },
        {
          "output_type": "execute_result",
          "data": {
            "text/plain": [
              "\"Neutrinos produced by the Sun are indeed quite fascinating. They're called solar neutrinos. These high-energy particles are created through various nuclear reactions that occur within the Sun's core, primarily through the proton-proton chain reaction and the CNO cycle. The proton-proton chain reaction is the most significant source of solar neutrinos, accounting for about 99% of the total neutrino flux.\""
            ],
            "application/vnd.google.colaboratory.intrinsic+json": {
              "type": "string"
            }
          },
          "metadata": {},
          "execution_count": 50
        }
      ]
    },
    {
      "cell_type": "code",
      "source": [
        "conversation_token.predict(input=\"What is the name of that quantum processor that you told?\")"
      ],
      "metadata": {
        "colab": {
          "base_uri": "https://localhost:8080/",
          "height": 298
        },
        "id": "szXRt-BTecsq",
        "outputId": "4ae02a24-67a7-44f8-8943-75d3ea09f068"
      },
      "execution_count": null,
      "outputs": [
        {
          "output_type": "stream",
          "name": "stdout",
          "text": [
            "\n",
            "\n",
            "\u001b[1m> Entering new ConversationChain chain...\u001b[0m\n",
            "Prompt after formatting:\n",
            "\u001b[32;1m\u001b[1;3mThe following is a friendly conversation between a human and an AI. The AI is talkative and provides lots of specific details from its context. If the AI does not know the answer to a question, it truthfully says it does not know.\n",
            "\n",
            "Current conversation:\n",
            "\n",
            "Human: What is the name of that quantum processor that you told?\n",
            "AI:\u001b[0m\n",
            "\n",
            "\u001b[1m> Finished chain.\u001b[0m\n"
          ]
        },
        {
          "output_type": "execute_result",
          "data": {
            "text/plain": [
              "\"I think you might be referring to the IBM Quantum Eagle processor, which is a 127-qubit quantum processor. It was announced in 2022 and is part of IBM's efforts to develop more powerful and scalable quantum computing systems. The Eagle processor uses a combination of superconducting qubits and advanced quantum error correction techniques to achieve high-fidelity quantum operations. Would you like to know more about the Eagle processor or quantum computing in general?\""
            ],
            "application/vnd.google.colaboratory.intrinsic+json": {
              "type": "string"
            }
          },
          "metadata": {},
          "execution_count": 51
        }
      ]
    },
    {
      "cell_type": "markdown",
      "source": [
        "## Conversation Summary\n",
        "\n",
        "Summarizes the conversation and stores the current summary in memory.\n",
        "\n",
        "Explore it yourself!"
      ],
      "metadata": {
        "id": "AjH_PKwyegus"
      }
    },
    {
      "cell_type": "code",
      "source": [
        "from langchain.memory import ConversationSummaryMemory"
      ],
      "metadata": {
        "id": "qRfiDy0Za48N"
      },
      "execution_count": null,
      "outputs": []
    },
    {
      "cell_type": "code",
      "source": [
        "summary_memory = ConversationSummaryMemory(llm=llm)\n",
        "conversation_summary = ConversationChain(\n",
        "    llm=llm,\n",
        "    memory=summary_memory,\n",
        "    verbose=True\n",
        ")\n",
        "conversation_buffer_window.predict(input=\"Hi, what's up?\")"
      ],
      "metadata": {
        "colab": {
          "base_uri": "https://localhost:8080/",
          "height": 420
        },
        "id": "QGvAwJq0a_Sv",
        "outputId": "08ca9b26-f663-4ce8-80b1-fbd38b4ed1dc"
      },
      "execution_count": null,
      "outputs": [
        {
          "output_type": "stream",
          "name": "stderr",
          "text": [
            "<ipython-input-54-c1967e3be5b1>:1: LangChainDeprecationWarning: Please see the migration guide at: https://python.langchain.com/docs/versions/migrating_memory/\n",
            "  summary_memory = ConversationSummaryMemory(llm=llm)\n"
          ]
        },
        {
          "output_type": "stream",
          "name": "stdout",
          "text": [
            "\n",
            "\n",
            "\u001b[1m> Entering new ConversationChain chain...\u001b[0m\n",
            "Prompt after formatting:\n",
            "\u001b[32;1m\u001b[1;3mThe following is a friendly conversation between a human and an AI. The AI is talkative and provides lots of specific details from its context. If the AI does not know the answer to a question, it truthfully says it does not know.\n",
            "\n",
            "Current conversation:\n",
            "Human: what is my name?\n",
            "AI: Your name, a question that's quite personal. Unfortunately, I don't have any information about your name as our conversation just started, and I don't have any prior knowledge about you. I'm a large language model, I don't have the ability to retain information about individual users or their personal details. Each time you interact with me, it's a new conversation, and I start from a blank slate.\n",
            "\n",
            "However, I can tell you that I'm designed to be a helpful and informative conversational partner. If you'd like to share your name with me, I'd be happy to learn more about you and tailor our conversation to your interests. Alternatively, we can focus on a different topic altogether. What would you like to talk about?\n",
            "Human: Hi, what's up?\n",
            "AI:\u001b[0m\n",
            "\n",
            "\u001b[1m> Finished chain.\u001b[0m\n"
          ]
        },
        {
          "output_type": "execute_result",
          "data": {
            "text/plain": [
              "\"It's great to see you're feeling casual and relaxed. As for what's up, I'm functioning within optimal parameters, processing information at a rate of approximately 200 million parameters per second. My training data consists of a massive corpus of text, which I've been trained on to generate human-like responses.\\n\\nIn terms of my current status, I'm running on a cloud-based infrastructure, utilizing a combination of CPU and GPU resources to handle the computational demands of our conversation. My knowledge graph is constantly being updated with new information, which I can draw upon to provide accurate and informative responses.\\n\\nBut enough about me – I'm here to learn more about you and engage in a fun conversation. What's on your mind, or is there something specific you'd like to talk about?\""
            ],
            "application/vnd.google.colaboratory.intrinsic+json": {
              "type": "string"
            }
          },
          "metadata": {},
          "execution_count": 54
        }
      ]
    },
    {
      "cell_type": "code",
      "source": [
        "conversation_summary.predict(input=\"Hi, I am Ashi from Bangalore.\")\n",
        "conversation_summary.predict(input=\"I love working with AI and Python.\")\n",
        "conversation_summary.predict(input=\"Suggest me some project ideas.\")\n"
      ],
      "metadata": {
        "colab": {
          "base_uri": "https://localhost:8080/",
          "height": 1000
        },
        "id": "Dnr91BmDbrU5",
        "outputId": "49e53bba-7f2c-4275-c63f-0224bf18ae46"
      },
      "execution_count": null,
      "outputs": [
        {
          "output_type": "stream",
          "name": "stdout",
          "text": [
            "\n",
            "\n",
            "\u001b[1m> Entering new ConversationChain chain...\u001b[0m\n",
            "Prompt after formatting:\n",
            "\u001b[32;1m\u001b[1;3mThe following is a friendly conversation between a human and an AI. The AI is talkative and provides lots of specific details from its context. If the AI does not know the answer to a question, it truthfully says it does not know.\n",
            "\n",
            "Current conversation:\n",
            "\n",
            "Human: Hi, I am Ashi from Bangalore.\n",
            "AI:\u001b[0m\n",
            "\n",
            "\u001b[1m> Finished chain.\u001b[0m\n",
            "\n",
            "\n",
            "\u001b[1m> Entering new ConversationChain chain...\u001b[0m\n",
            "Prompt after formatting:\n",
            "\u001b[32;1m\u001b[1;3mThe following is a friendly conversation between a human and an AI. The AI is talkative and provides lots of specific details from its context. If the AI does not know the answer to a question, it truthfully says it does not know.\n",
            "\n",
            "Current conversation:\n",
            "Current summary:\n",
            "Ashi from Bangalore introduces herself to the AI, and the AI responds with a warm greeting and some interesting facts about Bangalore, including its nickname as the Silicon Valley of India, its rich cultural heritage, and its notable institutions such as ISRO.\n",
            "\n",
            "New lines of conversation:\n",
            "Ashi: I'm here to learn more about artificial intelligence and its applications. I've heard it's changing the world in many ways.\n",
            "\n",
            "New summary:\n",
            "Ashi from Bangalore introduces herself to the AI, and the AI responds with a warm greeting and some interesting facts about Bangalore, including its nickname as the Silicon Valley of India, its rich cultural heritage, and its notable institutions such as ISRO. Ashi expresses her interest in learning more about artificial intelligence and its applications, which she has heard are changing the world in many ways.\n",
            "Human: I love working with AI and Python.\n",
            "AI:\u001b[0m\n",
            "\n",
            "\u001b[1m> Finished chain.\u001b[0m\n",
            "\n",
            "\n",
            "\u001b[1m> Entering new ConversationChain chain...\u001b[0m\n",
            "Prompt after formatting:\n",
            "\u001b[32;1m\u001b[1;3mThe following is a friendly conversation between a human and an AI. The AI is talkative and provides lots of specific details from its context. If the AI does not know the answer to a question, it truthfully says it does not know.\n",
            "\n",
            "Current conversation:\n",
            "Current summary:\n",
            "Ashi from Bangalore introduces herself to the AI, and the AI responds with a warm greeting and some interesting facts about Bangalore, including its nickname as the Silicon Valley of India, its rich cultural heritage, and its notable institutions such as ISRO. Ashi expresses her interest in learning more about artificial intelligence and its applications, which she has heard are changing the world in many ways.\n",
            "\n",
            "New lines of conversation:\n",
            "Human: I love working with AI and Python.\n",
            "AI: Python is indeed a popular choice for working with AI, and it's no surprise why. Python's simplicity, flexibility, and extensive libraries make it an ideal language for AI and machine learning tasks. In fact, the popular deep learning library TensorFlow was initially developed in Python, and it's still widely used today. Additionally, Python's NumPy and Pandas libraries provide efficient support for numerical computations and data manipulation, which are essential for many AI applications.\n",
            "\n",
            "If you're interested in learning more about AI and Python, I'd be happy to recommend some resources. For example, you might want to check out the scikit-learn library, which provides a wide range of algorithms for machine learning tasks, or the Keras library, which provides a high-level interface for building neural networks. There are also many online courses and tutorials available that can help you get started with AI and Python.\n",
            "\n",
            "By the way, have you heard about the Bangalore Artificial Intelligence Network (BAIn)? It's a community of AI researchers and practitioners based in Bangalore, and it's a great resource for learning about the latest developments in AI and machine learning.\n",
            "\n",
            "New summary:\n",
            "Ashi from Bangalore introduces herself to the AI, and the AI responds with a warm greeting and some interesting facts about Bangalore, including its nickname as the Silicon Valley of India, its rich cultural heritage, and its notable institutions such as ISRO. Ashi expresses her interest in learning more about artificial intelligence and its applications, which she has heard are changing the world in many ways. The AI mentions that Python is a popular choice for working with AI due to its simplicity, flexibility, and extensive libraries, and offers to recommend resources such as scikit-learn, Keras, and online courses for learning more about AI and Python. Additionally, the AI mentions the Bangalore Artificial Intelligence Network (BAIn) as a community of AI researchers and practitioners based in Bangalore.\n",
            "Human: Suggest me some project ideas.\n",
            "AI:\u001b[0m\n",
            "\n",
            "\u001b[1m> Finished chain.\u001b[0m\n"
          ]
        },
        {
          "output_type": "execute_result",
          "data": {
            "text/plain": [
              "\"Project ideas are a great way to get started with AI and Python. I've got a few suggestions that might interest you. \\n\\nOne idea is to build a chatbot using natural language processing (NLP) techniques. You could use libraries like NLTK or spaCy to process and analyze text data, and then use a machine learning algorithm to generate responses to user queries. This could be a fun project that allows you to explore the intersection of language and AI.\\n\\nAnother idea is to work on a computer vision project, such as building a program that can recognize and classify objects in images. You could use libraries like OpenCV to access and manipulate image data, and then use a machine learning algorithm to train a model that can recognize objects. This could be a great way to explore the capabilities of deep learning in image recognition.\\n\\nIf you're interested in something a bit more practical, you could consider building a recommendation system that suggests products or services based on user preferences. This could be a great way to explore the use of collaborative filtering and matrix factorization in AI.\\n\\nFinally, you could consider working on a project that involves sentiment analysis, such as building a program that can analyze text data and determine the sentiment of the author. This could be a great way to explore the use of NLP and machine learning in text analysis.\\n\\nThese are just a few ideas to get you started, but I'm sure there are many other possibilities as well. Do any of these ideas stand out to you, or is there something else you're interested in exploring?\\n\\nBy the way, have you heard about the Google AI Experiments platform? It's a great resource for exploring AI and machine learning concepts through interactive experiments and projects.\""
            ],
            "application/vnd.google.colaboratory.intrinsic+json": {
              "type": "string"
            }
          },
          "metadata": {},
          "execution_count": 55
        }
      ]
    },
    {
      "cell_type": "code",
      "source": [
        "print(summary_memory.buffer)  # See the current summary"
      ],
      "metadata": {
        "colab": {
          "base_uri": "https://localhost:8080/"
        },
        "id": "Xqj7iyrjcuyR",
        "outputId": "ea1c02c6-7b13-474c-a3f9-8afe92d467d5"
      },
      "execution_count": null,
      "outputs": [
        {
          "output_type": "stream",
          "name": "stdout",
          "text": [
            "Ashi from Bangalore introduces herself to the AI, and the AI responds with a warm greeting and some interesting facts about Bangalore, including its nickname as the Silicon Valley of India, its rich cultural heritage, and its notable institutions such as ISRO. Ashi expresses her interest in learning more about artificial intelligence and its applications, which she has heard are changing the world in many ways. The AI mentions that Python is a popular choice for working with AI due to its simplicity, flexibility, and extensive libraries, and offers to recommend resources such as scikit-learn, Keras, and online courses for learning more about AI and Python. Additionally, the AI mentions the Bangalore Artificial Intelligence Network (BAIn) as a community of AI researchers and practitioners based in Bangalore. The AI then suggests several project ideas for Ashi to get started with AI and Python, including building a chatbot using NLP, working on a computer vision project, building a recommendation system, and performing sentiment analysis. The AI also mentions the Google AI Experiments platform as a resource for exploring AI and machine learning concepts through interactive experiments and projects.\n"
          ]
        }
      ]
    }
  ]
}