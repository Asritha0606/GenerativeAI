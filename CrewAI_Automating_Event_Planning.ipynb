{
  "cells": [
    {
      "cell_type": "markdown",
      "metadata": {
        "id": "view-in-github",
        "colab_type": "text"
      },
      "source": [
        "<a href=\"https://colab.research.google.com/github/Asritha0606/GenerativeAI/blob/main/CrewAI_Automating_Event_Planning.ipynb\" target=\"_parent\"><img src=\"https://colab.research.google.com/assets/colab-badge.svg\" alt=\"Open In Colab\"/></a>"
      ]
    },
    {
      "cell_type": "markdown",
      "metadata": {
        "id": "QSQqX8i30OuN"
      },
      "source": [
        "Use case- Automating Event Planning\n",
        "\n",
        "1. Venue Coordinator\n",
        "2. Logistics Manager\n",
        "3. Marketing and Communications Agent\n",
        "\n",
        "\n",
        "Takeaways-\n",
        "\n",
        "- Allow Human Feedback\n",
        "- Getting curated files directly as output\n",
        "- Serper API for Google search"
      ]
    },
    {
      "cell_type": "code",
      "execution_count": 1,
      "metadata": {
        "colab": {
          "base_uri": "https://localhost:8080/"
        },
        "id": "KY1EXfn0x50L",
        "outputId": "2aad40d5-4daa-4fe5-ac08-7e6eda7c0b65"
      },
      "outputs": [
        {
          "output_type": "stream",
          "name": "stdout",
          "text": [
            "  Installing build dependencies ... \u001b[?25l\u001b[?25hdone\n",
            "  Getting requirements to build wheel ... \u001b[?25l\u001b[?25hdone\n",
            "  Preparing metadata (pyproject.toml) ... \u001b[?25l\u001b[?25hdone\n",
            "  Building wheel for pypika (pyproject.toml) ... \u001b[?25l\u001b[?25hdone\n",
            "\u001b[31mERROR: pip's dependency resolver does not currently take into account all the packages that are installed. This behaviour is the source of the following dependency conflicts.\n",
            "transformers 4.52.4 requires tokenizers<0.22,>=0.21, but you have tokenizers 0.20.3 which is incompatible.\u001b[0m\u001b[31m\n",
            "\u001b[0m"
          ]
        }
      ],
      "source": [
        "!pip install -q crewai 'crewai[tools]' --progress-bar off"
      ]
    },
    {
      "cell_type": "markdown",
      "metadata": {
        "id": "MwlBf1ZU0KVf"
      },
      "source": [
        "Crew AI Tool: https://docs.crewai.com/concepts/tools"
      ]
    },
    {
      "cell_type": "code",
      "execution_count": 21,
      "metadata": {
        "id": "cKfEs6_9yyRb"
      },
      "outputs": [],
      "source": [
        "# Warning control\n",
        "import warnings\n",
        "warnings.filterwarnings('ignore')\n",
        "\n",
        "from crewai import Agent, Task, Crew"
      ]
    },
    {
      "cell_type": "code",
      "execution_count": 22,
      "metadata": {
        "id": "QlwmhpDHy0Jd"
      },
      "outputs": [],
      "source": [
        "import os\n",
        "from google.colab import userdata\n",
        "groq_api_key = userdata.get('groq_api')\n",
        "os.environ[\"GROQ_API_KEY\"] = groq_api_key\n",
        "\n",
        "# hf_api_key = userdata.get('huggingfacehub')\n",
        "# os.environ[\"HUGGINGFACEHUB_API_KEY\"] = hf_api_key\n",
        "\n",
        "serper_api_key = userdata.get('serper_api')\n",
        "os.environ[\"SERPER_API_KEY\"] = serper_api_key\n",
        "\n",
        "gemini_api_key = userdata.get('Gemini_api')\n",
        "os.environ[\"GEMINI_API_KEY\"] = gemini_api_key\n",
        "\n",
        "together_api_key = userdata.get('together_api')\n",
        "os.environ[\"TOGETHER_API_KEY\"] = together_api_key"
      ]
    },
    {
      "cell_type": "code",
      "execution_count": 23,
      "metadata": {
        "id": "TlSizEtcpbd2"
      },
      "outputs": [],
      "source": [
        "from crewai import LLM\n",
        "llm = LLM(model=\"gemini/gemini-1.5-flash\", api_key=gemini_api_key)"
      ]
    },
    {
      "cell_type": "code",
      "source": [
        "# from crewai import Agent, LLM\n",
        "# llm = LLM(\n",
        "#     model= \"together_ai/meta-llama/Meta-Llama-3.1-8B-Instruct-Turbo\",\n",
        "#     temperature=0,\n",
        "#     api_key=together_api_key\n",
        "# )\n"
      ],
      "metadata": {
        "id": "aK2uXQEOI1qI"
      },
      "execution_count": null,
      "outputs": []
    },
    {
      "cell_type": "markdown",
      "metadata": {
        "id": "-XfLBOcJzzW-"
      },
      "source": [
        "## Automate Event Planning\n",
        "\n"
      ]
    },
    {
      "cell_type": "markdown",
      "source": [
        "Tool Creation"
      ],
      "metadata": {
        "id": "Fpjd1_fXKjvG"
      }
    },
    {
      "cell_type": "code",
      "execution_count": 24,
      "metadata": {
        "id": "k1NlvuVJ0EzO"
      },
      "outputs": [],
      "source": [
        "from crewai_tools import ScrapeWebsiteTool, SerperDevTool\n",
        "\n",
        "# Initialize the tools\n",
        "search_tool = SerperDevTool()\n",
        "scrape_tool = ScrapeWebsiteTool()"
      ]
    },
    {
      "cell_type": "markdown",
      "metadata": {
        "id": "oZpvGID40KU2"
      },
      "source": [
        "**Agent 1: Venue Coordinator**"
      ]
    },
    {
      "cell_type": "code",
      "execution_count": 25,
      "metadata": {
        "id": "cC4ZhLgV0GoX"
      },
      "outputs": [],
      "source": [
        "venue_coordinator = Agent(\n",
        "    role=\"Venue Coordinator\",\n",
        "    goal=\"Identify and book an appropriate venue \"\n",
        "    \"based on event requirements\",\n",
        "    verbose=False,\n",
        "    backstory=(\n",
        "        \"With a keen sense of space and \"\n",
        "        \"understanding of event logistics, \"\n",
        "        \"you excel at finding and securing \"\n",
        "        \"the perfect venue that fits the event's theme, \"\n",
        "        \"size, and budget constraints.\"\n",
        "    ),\n",
        "    llm=llm, #gem_llm llm\n",
        "    tools= [search_tool, scrape_tool] #[SerperDevTool(), ScrapeWebsiteTool()]\n",
        ")"
      ]
    },
    {
      "cell_type": "markdown",
      "metadata": {
        "id": "boZjez28HJF0"
      },
      "source": [
        " **Agent 2: Logistics Manager**"
      ]
    },
    {
      "cell_type": "code",
      "execution_count": 26,
      "metadata": {
        "id": "x5UrlhszG9dk"
      },
      "outputs": [],
      "source": [
        "logistics_manager = Agent(\n",
        "    role='Logistics Manager',\n",
        "    goal=(\n",
        "        \"Manage all logistics for the event \"\n",
        "        \"including catering and equipment\"\n",
        "    ),\n",
        "    verbose=False,\n",
        "    backstory=(\n",
        "        \"Organized and detail-oriented, \"\n",
        "        \"you ensure that every logistical aspect of the event \"\n",
        "        \"from catering to equipment setup \"\n",
        "        \"is flawlessly executed to create a seamless experience.\"\n",
        "    ),\n",
        "    llm=llm, #gem_llm llm\n",
        "    tools= [search_tool, scrape_tool] #[SerperDevTool(), ScrapeWebsiteTool()],\n",
        ")"
      ]
    },
    {
      "cell_type": "markdown",
      "metadata": {
        "id": "LtbcQb9qHSoI"
      },
      "source": [
        "**Agent 3: Marketing and Communications Agent**"
      ]
    },
    {
      "cell_type": "code",
      "execution_count": 27,
      "metadata": {
        "id": "rhof20ZEG9aK"
      },
      "outputs": [],
      "source": [
        "marketing_communications_agent = Agent(\n",
        "    role=\"Marketing and Communications Agent\",\n",
        "    goal=\"Effectively market the event and \"\n",
        "         \"communicate with participants\",\n",
        "    verbose=False,\n",
        "    backstory=(\n",
        "        \"Creative and communicative, \"\n",
        "        \"you craft compelling messages and \"\n",
        "        \"engage with potential attendees \"\n",
        "        \"to maximize event exposure and participation.\"\n",
        "    ),\n",
        "    llm=llm,  #llm, #groq_llm, gem_llm\n",
        "    tools= [search_tool, scrape_tool] #[SerperDevTool(), ScrapeWebsiteTool()]\n",
        "  )"
      ]
    },
    {
      "cell_type": "code",
      "execution_count": 28,
      "metadata": {
        "id": "4n9D9jB0G9Ww"
      },
      "outputs": [],
      "source": [
        "from pydantic import BaseModel\n",
        "# Define a Pydantic model for venue details\n",
        "# (demonstrating Output as Pydantic)\n",
        "class VenueDetails(BaseModel):\n",
        "    name: str\n",
        "    address: str\n",
        "    capacity: int\n",
        "    booking_status: str"
      ]
    },
    {
      "cell_type": "markdown",
      "metadata": {
        "id": "l8lhjo5ZHaim"
      },
      "source": [
        "## Creating Tasks\n",
        "\n",
        "Task #1: Venue Task"
      ]
    },
    {
      "cell_type": "code",
      "execution_count": 29,
      "metadata": {
        "id": "I4svyyVZG9T2"
      },
      "outputs": [],
      "source": [
        "venue_task = Task(\n",
        "    description=\"Find a venue in {event_city} \"\n",
        "                \"that meets criteria for {event_topic}.\",\n",
        "    expected_output=\"All the details of a specifically chosen\"\n",
        "                    \"venue you found to accommodate the event.\",\n",
        "    human_input=True,\n",
        "    output_json=VenueDetails,\n",
        "    output_file=\"venue_details.json\",\n",
        "      # Outputs the venue details as a JSON file\n",
        "    agent=venue_coordinator\n",
        ")"
      ]
    },
    {
      "cell_type": "markdown",
      "metadata": {
        "id": "y0XYPJQbHiu1"
      },
      "source": [
        "Task #2: Logistic Task"
      ]
    },
    {
      "cell_type": "code",
      "execution_count": 30,
      "metadata": {
        "id": "lbQDaxFZHYLN"
      },
      "outputs": [],
      "source": [
        "logistics_task = Task(\n",
        "    description=\"Coordinate catering and \"\n",
        "                 \"equipment for an event \"\n",
        "                 \"with {expected_participants} participants \"\n",
        "                 \"on {tentative_date}.\",\n",
        "    expected_output=\"Confirmation of all logistics arrangements \"\n",
        "                    \"including catering and equipment setup.\",\n",
        "    human_input=True,\n",
        "    async_execution=True,\n",
        "    agent=logistics_manager\n",
        ")"
      ]
    },
    {
      "cell_type": "markdown",
      "metadata": {
        "id": "N48y6Mc2HprA"
      },
      "source": [
        "Task #3: Marketing Task"
      ]
    },
    {
      "cell_type": "code",
      "execution_count": 31,
      "metadata": {
        "id": "jt6hcYtDHn6Z"
      },
      "outputs": [],
      "source": [
        "marketing_task = Task(\n",
        "    description=\"Promote the {event_topic} \"\n",
        "                \"aiming to engage at least\"\n",
        "                \"{expected_participants} potential attendees.\",\n",
        "    expected_output=\"Report on marketing activities \"\n",
        "                    \"and attendee engagement formatted as markdown.\",\n",
        "    # async_execution=True,\n",
        "    output_file=\"marketing_report.md\",  # Outputs the report as a text file\n",
        "    agent=marketing_communications_agent\n",
        ")"
      ]
    },
    {
      "cell_type": "markdown",
      "metadata": {
        "id": "g7SZhXqvHyFB"
      },
      "source": [
        "**Define the crew with agents and tasks**"
      ]
    },
    {
      "cell_type": "code",
      "execution_count": 32,
      "metadata": {
        "id": "4dc_9A-sHn2y"
      },
      "outputs": [],
      "source": [
        "event_management_crew = Crew(\n",
        "    agents=[venue_coordinator,\n",
        "            logistics_manager,\n",
        "            marketing_communications_agent],\n",
        "\n",
        "    tasks=[venue_task,\n",
        "           logistics_task,\n",
        "           marketing_task],\n",
        "\n",
        "    verbose=False\n",
        ")"
      ]
    },
    {
      "cell_type": "code",
      "execution_count": 33,
      "metadata": {
        "id": "edqaw8hmHYHu"
      },
      "outputs": [],
      "source": [
        "event_details = {\n",
        "    'event_topic': \"Tech Innovation Conference\",\n",
        "    'event_description': \"A gathering of tech innovators \"\n",
        "                         \"and industry leaders \"\n",
        "                         \"to explore future technologies.\",\n",
        "    'event_city': \"San Francisco\",\n",
        "    'tentative_date': \"2024-09-15\",\n",
        "    'expected_participants': 500,\n",
        "    'budget': 20000,\n",
        "    'venue_type': \"Conference Hall\"\n",
        "}"
      ]
    },
    {
      "cell_type": "code",
      "execution_count": 34,
      "metadata": {
        "id": "dqE7XIlBH5Xx"
      },
      "outputs": [],
      "source": [
        "import json\n",
        "\n",
        "# Convert dictionary to JSON string\n",
        "event_details_str = json.dumps(event_details)"
      ]
    },
    {
      "cell_type": "code",
      "execution_count": 35,
      "metadata": {
        "colab": {
          "base_uri": "https://localhost:8080/"
        },
        "id": "IYQKfokpH5Q2",
        "collapsed": true,
        "outputId": "3589c761-2faa-486a-a494-f242e18a653f"
      },
      "outputs": [
        {
          "name": "stdout",
          "output_type": "stream",
          "text": [
            "\u001b[91m Received None or empty response from LLM call.\u001b[00m\n",
            "\u001b[91m An unknown error occurred. Please check the details below.\u001b[00m\n",
            "\u001b[91m Error details: Invalid response from LLM call - None or empty.\u001b[00m\n",
            "\u001b[91m An unknown error occurred. Please check the details below.\u001b[00m\n",
            "\u001b[91m Error details: Invalid response from LLM call - None or empty.\u001b[00m\n",
            "\u001b[1m\u001b[95m ## Final Result:\u001b[00m \u001b[92m{\"name\": \"Moscone Center\", \"address\": \"747 Howard St, San Francisco, CA 94103\", \"capacity\": 4740, \"booking_status\": \"Unknown\"}\u001b[00m\n",
            "\u001b[1m\u001b[93m \n",
            "\n",
            "=====\n",
            "## HUMAN FEEDBACK: Provide feedback on the Final Result and Agent's actions.\n",
            "Please follow these guidelines:\n",
            " - If you are happy with the result, simply hit Enter without typing anything.\n",
            " - Otherwise, provide specific improvement requests.\n",
            " - You can provide multiple rounds of feedback until satisfied.\n",
            "=====\n",
            "\u001b[00m\n",
            "i need location venue to be hyderabad\n",
            "\u001b[96m \n",
            "Processing your feedback...\u001b[00m\n",
            "\u001b[1m\u001b[95m ## Final Result:\u001b[00m \u001b[92m{\"name\": \"Hyderabad International Convention Centre (HICC)\", \"address\": \"Novotel Hyderabad Convention Centre, HITEC City, Hyderabad, Telangana 500081, India\", \"capacity\": 5800, \"booking_status\": \"Unknown\"}\u001b[00m\n",
            "\u001b[1m\u001b[93m \n",
            "\n",
            "=====\n",
            "## HUMAN FEEDBACK: Provide feedback on the Final Result and Agent's actions.\n",
            "Please follow these guidelines:\n",
            " - If you are happy with the result, simply hit Enter without typing anything.\n",
            " - Otherwise, provide specific improvement requests.\n",
            " - You can provide multiple rounds of feedback until satisfied.\n",
            "=====\n",
            "\u001b[00m\n",
            "\n",
            "\u001b[91m Received None or empty response from LLM call.\u001b[00m\n",
            "\u001b[91m An unknown error occurred. Please check the details below.\u001b[00m\n",
            "\u001b[91m Error details: Invalid response from LLM call - None or empty.\u001b[00m\n",
            "\u001b[91m An unknown error occurred. Please check the details below.\u001b[00m\n",
            "\u001b[91m Error details: Invalid response from LLM call - None or empty.\u001b[00m\n",
            "\u001b[1m\u001b[95m ## Final Result:\u001b[00m \u001b[92mTo provide a complete and accurate Final Answer, I need access to contact information for catering and equipment rental companies in New York City. The search results provide company names and website URLs, but not direct contact information like phone numbers or email addresses. To fulfill the request completely, I require the ability to access and utilize this information from the websites to complete the logistics arrangements and provide a final report that includes all details.\u001b[00m\n",
            "\u001b[1m\u001b[93m \n",
            "\n",
            "=====\n",
            "## HUMAN FEEDBACK: Provide feedback on the Final Result and Agent's actions.\n",
            "Please follow these guidelines:\n",
            " - If you are happy with the result, simply hit Enter without typing anything.\n",
            " - Otherwise, provide specific improvement requests.\n",
            " - You can provide multiple rounds of feedback until satisfied.\n",
            "=====\n",
            "\u001b[00m\n",
            "\n"
          ]
        }
      ],
      "source": [
        "result = event_management_crew.kickoff(inputs=event_details)"
      ]
    },
    {
      "cell_type": "code",
      "execution_count": 36,
      "metadata": {
        "colab": {
          "base_uri": "https://localhost:8080/"
        },
        "id": "tXwXG8I8H-Kl",
        "outputId": "31b122b8-3b0d-463a-ea90-04f2d8a0e119"
      },
      "outputs": [
        {
          "output_type": "stream",
          "name": "stdout",
          "text": [
            "{'address': 'Novotel Hyderabad Convention Centre, HITEC City, Hyderabad, '\n",
            "            'Telangana 500081, India',\n",
            " 'booking_status': 'Unknown',\n",
            " 'capacity': 5800,\n",
            " 'name': 'Hyderabad International Convention Centre (HICC)'}\n"
          ]
        }
      ],
      "source": [
        "import json\n",
        "from pprint import pprint\n",
        "\n",
        "with open('venue_details.json') as f:\n",
        "   data = json.load(f)\n",
        "\n",
        "pprint(data)"
      ]
    }
  ],
  "metadata": {
    "colab": {
      "provenance": [],
      "include_colab_link": true
    },
    "kernelspec": {
      "display_name": "Python 3",
      "name": "python3"
    },
    "language_info": {
      "name": "python"
    }
  },
  "nbformat": 4,
  "nbformat_minor": 0
}